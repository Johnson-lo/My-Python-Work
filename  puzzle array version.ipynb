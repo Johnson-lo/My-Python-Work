{
 "cells": [
  {
   "cell_type": "code",
   "execution_count": 84,
   "metadata": {},
   "outputs": [],
   "source": [
    "%matplotlib inline\n",
    "import numpy as np\n",
    "import math"
   ]
  },
  {
   "cell_type": "markdown",
   "metadata": {},
   "source": [
    "## 題目介紹: \n",
    "                有2張拼圖，90度 180度 270度或是平移可以拼出一張 *** 輸出yes .為空白 *為拼圖部分\n",
    "                                                             ***\n",
    "                                                             ***\n",
    "               \n",
    "        "
   ]
  },
  {
   "cell_type": "code",
   "execution_count": 93,
   "metadata": {},
   "outputs": [
    {
     "name": "stdout",
     "output_type": "stream",
     "text": [
      "第一張圖第一行:\n",
      "第一張圖第二行:\n",
      "第一張圖第三行:\n",
      "\n",
      "第二張圖第一行:\n",
      "第二張圖第二行:\n",
      "第二張圖第三行:\n",
      "請輸入3格,重新再輸入!!!\n",
      "--------------------------------------------------\n",
      "第一張圖第一行:\n",
      "第一張圖第二行:.\n",
      "第一張圖第三行:.\n",
      "\n",
      "第二張圖第一行:.\n",
      "第二張圖第二行:.\n",
      "第二張圖第三行:.\n",
      "請輸入3格,重新再輸入!!!\n",
      "--------------------------------------------------\n",
      "第一張圖第一行:*.*\n",
      "第一張圖第二行:...\n",
      "第一張圖第三行:***\n",
      "\n",
      "第二張圖第一行:***\n",
      "第二張圖第二行:.*\n",
      "第二張圖第三行:\n",
      "請輸入3格,重新再輸入!!!\n",
      "--------------------------------------------------\n",
      "第一張圖第一行:.\n",
      "第一張圖第二行:*.*\n",
      "第一張圖第三行:***\n",
      "\n",
      "第二張圖第一行:...\n",
      "第二張圖第二行:.\n",
      "第二張圖第三行:\n",
      "請輸入3格,重新再輸入!!!\n",
      "--------------------------------------------------\n",
      "第一張圖第一行:***\n",
      "第一張圖第二行:.*.\n",
      "第一張圖第三行:...\n",
      "\n",
      "第二張圖第一行:**.\n",
      "第二張圖第二行:*..\n",
      "第二張圖第三行:**.\n"
     ]
    }
   ],
   "source": [
    "while(True):    \n",
    "    puz1_1=input('第一張圖第一行:')\n",
    "    puz1_2=input('第一張圖第二行:')\n",
    "    puz1_3=input('第一張圖第三行:')\n",
    "    print()\n",
    "    puz2_1=input('第二張圖第一行:')\n",
    "    puz2_2=input('第二張圖第二行:')\n",
    "    puz2_3=input('第二張圖第三行:')\n",
    "    if len(puz1_1)!=3 or len(puz1_2)!=3 or len(puz1_3)!=3 or len(puz2_1)!=3 or len(puz2_2)!=3 or len(puz2_3)!=3:\n",
    "        print(\"請輸入3格,重新再輸入!!!\")\n",
    "        print('-'*50)\n",
    "        \n",
    "        continue\n",
    "    else:\n",
    "        break"
   ]
  },
  {
   "cell_type": "code",
   "execution_count": 94,
   "metadata": {},
   "outputs": [],
   "source": [
    "A=puz1_1+puz1_2+puz1_3"
   ]
  },
  {
   "cell_type": "code",
   "execution_count": 95,
   "metadata": {},
   "outputs": [],
   "source": [
    "B=puz2_1+puz2_2+puz2_3"
   ]
  },
  {
   "cell_type": "code",
   "execution_count": 96,
   "metadata": {},
   "outputs": [],
   "source": [
    "a=np.array([[A[0]],[A[1]],[A[2]],[A[3]],[A[4]],[A[5]],[A[6]],[A[7]],[A[8]]])"
   ]
  },
  {
   "cell_type": "code",
   "execution_count": 97,
   "metadata": {},
   "outputs": [],
   "source": [
    "ans=np.array([[1],[1],[1],[1],[1],[1],[1],[1],[1]])"
   ]
  },
  {
   "cell_type": "code",
   "execution_count": 98,
   "metadata": {},
   "outputs": [],
   "source": [
    "b1=np.array([[B[0]],[B[1]],[B[2]],[B[3]],[B[4]],[B[5]],[B[6]],[B[7]],[B[8]]])#原\n",
    "b1_1=np.array([[0],[0],[0],[B[0]],[B[1]],[B[2]],[B[3]],[B[4]],[B[5]]])#下\n",
    "b1_2=np.array([[B[3]],[B[4]],[B[5]],[B[6]],[B[7]],[B[8]],[0],[0],[0]])#上\n",
    "b1_3=np.array([[B[1]],[B[2]],[0],[B[4]],[B[5]],[0],[B[7]],[B[8]],[0]])#左\n",
    "b1_4=np.array([[0],[B[0]],[B[1]],[0],[B[3]],[B[4]],[0],[B[6]],[B[7]]])#右\n",
    "b1_1_1=np.array([['.'],['.'],['.'],['.'],['.'],['.'],B[0],B[1],B[2]])\n",
    "b1_2_1=np.array([B[6],B[7],B[8],['.'],['.'],['.'],['.'],['.'],['.']])\n",
    "b1_3_1=np.array([B[2],['.'],['.'],B[5],['.'],['.'],B[8],['.'],['.']])\n",
    "b1_4_1=np.array([['.'],['.'],B[0],['.'],['.'],B[3],['.'],['.'],B[6]])\n",
    "\n",
    "\n",
    "b2=np.array([[B[6]],[B[3]],[B[0]],[B[7]],[B[4]],[B[1]],[B[8]],[B[5]],[B[2]]])#右翻\n",
    "b2_1=np.array([[0],[0],[0],[B[6]],[B[3]],[B[0]],[B[7]],[B[4]],[B[1]]])#下\n",
    "b2_2=np.array([[B[7]],[B[5]],[B[1]],[B[8]],[B[5]],[B[2]],[0],[0],[0]])#上\n",
    "b2_3=np.array([[B[3]],[B[0]],[0],[B[4]],[B[1]],[0],[B[5]],[B[2]],[0]])#左\n",
    "b2_4=np.array([[0],[B[6]],[B[3]],[0],[B[7]],[B[4]],[0],[B[8]],[B[5]]])#右\n",
    "b2_1_1=np.array([['.'],['.'],['.'],['.'],['.'],['.'],B[6],B[3],B[0]])\n",
    "b2_2_1=np.array([B[8],B[5],B[2],['.'],['.'],['.'],['.'],['.'],['.']])\n",
    "b2_3_1=np.array([B[0],['.'],['.'],B[1],['.'],['.'],B[2],['.'],['.']])\n",
    "b2_4_1=np.array([['.'],['.'],B[6],['.'],['.'],B[7],['.'],['.'],B[8]])\n",
    "\n",
    "b3=np.array([[B[2]],[B[5]],[B[8]],[B[1]],[B[4]],[B[7]],[B[0]],[B[3]],[B[6]]])#左翻\n",
    "b3_1=np.array([[0],[0],[0],[B[2]],[B[5]],[B[8]],[B[1]],[B[4]],[B[7]]])#下\n",
    "b3_2=np.array([[B[1]],[B[4]],[B[7]],[B[0]],[B[3]],[B[6]],[0],[0],[0]])#上\n",
    "b3_3=np.array([[B[5]],[B[8]],[0],[B[4]],[B[7]],[0],[B[3]],[B[6]],[0]])#左\n",
    "b3_4=np.array([[0],[B[2]],[B[5]],[0],[B[1]],[B[4]],[0],[B[0]],[B[3]]])#右\n",
    "b3_1_1=np.array([['.'],['.'],['.'],['.'],['.'],['.'],B[2],B[5],B[8]])\n",
    "b3_2_1=np.array([B[0],B[3],B[6],['.'],['.'],['.'],['.'],['.'],['.']])\n",
    "b3_3_1=np.array([B[8],['.'],['.'],B[7],['.'],['.'],B[6],['.'],['.']])\n",
    "b3_4_1=np.array([['.'],['.'],B[2],['.'],['.'],B[1],['.'],['.'],B[0]])\n",
    "\n",
    "b4=np.array([[B[8]],[B[7]],[B[6]],[B[5]],[B[4]],[B[3]],[B[2]],[B[1]],[B[0]]])#顛倒\n",
    "b4_1=np.array([[0],[0],[0],[B[8]],[B[7]],[B[6]],[B[5]],[B[4]],[B[3]]])#下\n",
    "b4_2=np.array([[B[5]],[B[4]],[B[3]],[B[2]],[B[1]],[B[0]],[0],[0],[0]])#上\n",
    "b4_3=np.array([[B[7]],[B[6]],[0],[B[4]],[B[3]],[0],[B[1]],[B[0]],[0]])#左\n",
    "b4_4=np.array([[0],[B[8]],[B[7]],[0],[B[5]],[B[4]],[0],[B[3]],[B[2]]])#右\n",
    "b4_1_1=np.array([['.'],['.'],['.'],['.'],['.'],['.'],B[8],B[7],B[6]])\n",
    "b4_2_1=np.array([B[2],B[1],B[0],['.'],['.'],['.'],['.'],['.'],['.']])\n",
    "b4_3_1=np.array([B[6],['.'],['.'],B[3],['.'],['.'],B[0],['.'],['.']])\n",
    "b4_4_1=np.array([['.'],['.'],B[8],['.'],['.'],B[5],['.'],['.'],B[2]])"
   ]
  },
  {
   "cell_type": "code",
   "execution_count": 99,
   "metadata": {},
   "outputs": [],
   "source": [
    "a_boolean=np.where(a !='*',0,1) ##若有*則輸出1\n",
    "\n",
    "b1_boolean=np.where(b1 !='*',0,1)\n",
    "b1_1_boolean=np.where(b1_1 !='*',0,1)\n",
    "b1_2_boolean=np.where(b1_2 !='*',0,1)\n",
    "b1_3_boolean=np.where(b1_3 !='*',0,1)\n",
    "b1_4_boolean=np.where(b1_4 !='*',0,1)\n",
    "b1_5_boolean=np.where(b1_5 !='*',0,1)\n",
    "b1_6_boolean=np.where(b1_6 !='*',0,1)\n",
    "b1_7_boolean=np.where(b1_7 !='*',0,1)\n",
    "b1_8_boolean=np.where(b1_8 !='*',0,1)\n",
    "\n",
    "b2_boolean=np.where(b2 !='*',0,1)\n",
    "b2_1_boolean=np.where(b2_1 !='*',0,1)\n",
    "b2_2_boolean=np.where(b2_2 !='*',0,1)\n",
    "b2_3_boolean=np.where(b2_3 !='*',0,1)\n",
    "b2_4_boolean=np.where(b2_4 !='*',0,1)\n",
    "b1_5_boolean=np.where(b1_5 !='*',0,1)\n",
    "b1_6_boolean=np.where(b1_6 !='*',0,1)\n",
    "b1_7_boolean=np.where(b1_7 !='*',0,1)\n",
    "b1_8_boolean=np.where(b1_8 !='*',0,1)\n",
    "\n",
    "b3_boolean=np.where(b3 !='*',0,1)\n",
    "b3_1_boolean=np.where(b3_1 !='*',0,1)\n",
    "b3_2_boolean=np.where(b3_2 !='*',0,1)\n",
    "b3_3_boolean=np.where(b3_3 !='*',0,1)\n",
    "b3_4_boolean=np.where(b3_4 !='*',0,1)\n",
    "b1_5_boolean=np.where(b1_5 !='*',0,1)\n",
    "b1_6_boolean=np.where(b1_6 !='*',0,1)\n",
    "b1_7_boolean=np.where(b1_7 !='*',0,1)\n",
    "b1_8_boolean=np.where(b1_8 !='*',0,1)\n",
    "\n",
    "b4_boolean=np.where(b4 !='*',0,1)\n",
    "b4_1_boolean=np.where(b4_1 !='*',0,1)\n",
    "b4_2_boolean=np.where(b4_2 !='*',0,1)\n",
    "b4_3_boolean=np.where(b4_3 !='*',0,1)\n",
    "b4_4_boolean=np.where(b4_4 !='*',0,1)\n",
    "b1_5_boolean=np.where(b1_5 !='*',0,1)\n",
    "b1_6_boolean=np.where(b1_6 !='*',0,1)\n",
    "b1_7_boolean=np.where(b1_7 !='*',0,1)\n",
    "b1_8_boolean=np.where(b1_8 !='*',0,1)"
   ]
  },
  {
   "cell_type": "code",
   "execution_count": 100,
   "metadata": {},
   "outputs": [
    {
     "name": "stdout",
     "output_type": "stream",
     "text": [
      "Yes\n"
     ]
    }
   ],
   "source": [
    "lis=[b1_boolean,b1_1_boolean,b1_2_boolean,b1_3_boolean,b1_4_boolean,b1_5_boolean,b1_6_boolean,b1_7_boolean,b1_8_boolean,b2_boolean,b2_1_boolean,b2_2_boolean,b2_3_boolean,b2_4_boolean,b2_5_boolean,b2_6_boolean,b2_7_boolean,b2_8_boolean,b3_boolean,b3_1_boolean,b3_2_boolean,b3_3_boolean,b3_4_boolean,b3_5_boolean,b3_6_boolean,b3_7_boolean,b3_8_boolean,b4_boolean,b4_1_boolean,b4_2_boolean,b4_3_boolean,b4_4_boolean,b4_5_boolean,b4_6_boolean,b4_7_boolean,b4_8_boolean]\n",
    "bingo=0\n",
    "for i in range(36):\n",
    "    ans_ans=a_boolean+lis[i]##若相同 則array=[[1],[1],[1],[1],[1],[1],[1],[1],[1]]\n",
    "    if np.all(ans==ans_ans):\n",
    "        bingo+=1\n",
    "        break\n",
    "    else:\n",
    "        pass\n",
    "if bingo==1:\n",
    "    print('Yes')\n",
    "else:\n",
    "    print('No')\n",
    "\n",
    "        \n",
    "       "
   ]
  }
 ],
 "metadata": {
  "kernelspec": {
   "display_name": "Python 3",
   "language": "python",
   "name": "python3"
  },
  "language_info": {
   "codemirror_mode": {
    "name": "ipython",
    "version": 3
   },
   "file_extension": ".py",
   "mimetype": "text/x-python",
   "name": "python",
   "nbconvert_exporter": "python",
   "pygments_lexer": "ipython3",
   "version": "3.7.3"
  }
 },
 "nbformat": 4,
 "nbformat_minor": 2
}
