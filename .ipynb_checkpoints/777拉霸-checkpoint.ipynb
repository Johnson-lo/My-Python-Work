{
 "cells": [
  {
   "cell_type": "code",
   "execution_count": 1,
   "metadata": {},
   "outputs": [],
   "source": [
    "%matplotlib inline \n",
    "import numpy as np\n",
    "import matplotlib.pyplot as plt\n",
    "import pandas as pd\n",
    "import random"
   ]
  },
  {
   "cell_type": "code",
   "execution_count": 2,
   "metadata": {},
   "outputs": [
    {
     "name": "stdout",
     "output_type": "stream",
     "text": [
      "要開始請輸入0,不要請輸入88:0\n",
      "您轉到的號碼為 [3 7 2]\n",
      "未中獎，再來一次。\n",
      "要開始請輸入0,不要請輸入88:0\n",
      "您轉到的號碼為 [1 8 8]\n",
      "未中獎，再來一次。\n",
      "要開始請輸入0,不要請輸入88:0\n",
      "您轉到的號碼為 [3 7 4]\n",
      "未中獎，再來一次。\n",
      "要開始請輸入0,不要請輸入88:0\n",
      "您轉到的號碼為 [7 2 4]\n",
      "未中獎，再來一次。\n",
      "要開始請輸入0,不要請輸入88:88\n"
     ]
    }
   ],
   "source": [
    "c=np.array([7,7,7])\n",
    "while(True):\n",
    "    b=input(\"要開始請輸入0,不要請輸入88:\")\n",
    "    if b=='0':\n",
    "        a=np.random.randint(1,10,size=3)\n",
    "        print(\"您轉到的號碼為\",a)\n",
    "        if np.all(a==c):\n",
    "            print(\"恭喜你中獎\")\n",
    "            break\n",
    "        else:\n",
    "            print(\"未中獎，再來一次。\")\n",
    "    elif b=='88':\n",
    "        print(\"歡迎下次再來\")\n",
    "        break\n",
    "    else:\n",
    "        print(\"請輸入0或88\")\n",
    "        continue\n",
    "        "
   ]
  },
  {
   "cell_type": "code",
   "execution_count": null,
   "metadata": {},
   "outputs": [],
   "source": []
  },
  {
   "cell_type": "code",
   "execution_count": null,
   "metadata": {},
   "outputs": [],
   "source": []
  },
  {
   "cell_type": "code",
   "execution_count": null,
   "metadata": {},
   "outputs": [],
   "source": []
  }
 ],
 "metadata": {
  "kernelspec": {
   "display_name": "Python 3",
   "language": "python",
   "name": "python3"
  },
  "language_info": {
   "codemirror_mode": {
    "name": "ipython",
    "version": 3
   },
   "file_extension": ".py",
   "mimetype": "text/x-python",
   "name": "python",
   "nbconvert_exporter": "python",
   "pygments_lexer": "ipython3",
   "version": "3.7.3"
  }
 },
 "nbformat": 4,
 "nbformat_minor": 2
}
