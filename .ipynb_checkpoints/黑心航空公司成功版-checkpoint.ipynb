{
 "cells": [
  {
   "cell_type": "code",
   "execution_count": null,
   "metadata": {},
   "outputs": [
    {
     "name": "stdout",
     "output_type": "stream",
     "text": [
      "子翔黑心航空公司,行李免費贈送1公斤,每10公斤送1公斤，每公斤收500元運輸費\n",
      "請輸入乘客名稱:子翔第一次出國\n",
      "乘客想運行的行李重量:100\n",
      "運費共44500.0元\n",
      "請輸入乘客名稱:子翔去日本玩\n",
      "乘客想運行的行李重量:69\n",
      "運費共31000.0元\n",
      "請輸入乘客名稱:子翔去韓國玩\n",
      "乘客想運行的行李重量:3\n",
      "運費共1000.0元\n",
      "請輸入乘客名稱:子翔去大陸打仗\n",
      "乘客想運行的行李重量:666\n",
      "運費共299500.0元\n"
     ]
    }
   ],
   "source": [
    "print('子翔黑心航空公司,行李免費贈送1公斤,每10公斤送1公斤，每公斤收500元運輸費')\n",
    "c=0\n",
    "while(True):\n",
    "    name=input(\"請輸入乘客名稱:\")\n",
    "    kg=input(\"乘客想運行的行李重量:\")\n",
    "    b=float(kg)\n",
    "    c=(b-int(b/10)-1)*500\n",
    "    d=(b-1)*500\n",
    "    if b>=10:\n",
    "        print(\"運費共\"+str(c)+\"元\")\n",
    "    else:\n",
    "        print(\"運費共\"+str(d)+\"元\")"
   ]
  },
  {
   "cell_type": "code",
   "execution_count": null,
   "metadata": {},
   "outputs": [],
   "source": []
  }
 ],
 "metadata": {
  "kernelspec": {
   "display_name": "Python 3",
   "language": "python",
   "name": "python3"
  },
  "language_info": {
   "codemirror_mode": {
    "name": "ipython",
    "version": 3
   },
   "file_extension": ".py",
   "mimetype": "text/x-python",
   "name": "python",
   "nbconvert_exporter": "python",
   "pygments_lexer": "ipython3",
   "version": "3.7.3"
  }
 },
 "nbformat": 4,
 "nbformat_minor": 2
}
