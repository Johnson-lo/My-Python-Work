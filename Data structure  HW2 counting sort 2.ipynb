{
 "cells": [
  {
   "cell_type": "code",
   "execution_count": 1,
   "metadata": {},
   "outputs": [],
   "source": [
    "%matplotlib inline \n",
    "import numpy as np\n",
    "import matplotlib.pyplot as plt\n",
    "import random\n",
    "import time"
   ]
  },
  {
   "cell_type": "markdown",
   "metadata": {},
   "source": [
    "#  Case2. Almpost sort\n",
    "\n",
    "# code link:http://www.learntosolveit.com/python/algorithm_countingsort.html"
   ]
  },
  {
   "cell_type": "code",
   "execution_count": 2,
   "metadata": {},
   "outputs": [],
   "source": [
    "def counting_sort(arr,max_val):\n",
    "    m = max_val + 1\n",
    "    count = [0] * m                \n",
    "    \n",
    "    for a in arr:\n",
    "    # count occurences\n",
    "        count[a] += 1             \n",
    "    i = 0\n",
    "    for a in range(m):            \n",
    "        for c in range(count[a]):  \n",
    "            arr[i] = a\n",
    "            i += 1\n",
    "    return arr"
   ]
  },
  {
   "cell_type": "code",
   "execution_count": 7,
   "metadata": {},
   "outputs": [
    {
     "name": "stdout",
     "output_type": "stream",
     "text": [
      "第1次平均計算時間為0.019499993324279784\n",
      "第2次平均計算時間為0.021295547485351562\n",
      "第3次平均計算時間為0.025101876258850096\n",
      "第4次平均計算時間為0.047503328323364256\n",
      "第5次平均計算時間為0.09680752754211426\n",
      "第6次平均計算時間為0.18711280822753906\n",
      "第7次平均計算時間為0.45913522243499755\n",
      "第8次平均計算時間為0.8688649892807007\n",
      "第9次平均計算時間為1.7624319314956665\n",
      "第10次平均計算時間為3.4477660179138185\n"
     ]
    }
   ],
   "source": [
    "total_time=[]\n",
    "arr_size=[]\n",
    "for k in range(10,20):\n",
    "    partial_time=[]\n",
    "    input_arr=2**k\n",
    "    arr_size.append(input_arr)\n",
    "    arr=list(np.arange(1,input_arr+1))\n",
    "    tstart=time.time()\n",
    "    for run_times in range(10):\n",
    "        r=random.sample(arr,100)\n",
    "        for change in range(len(r)):\n",
    "            arr[arr.index(r[change])]=random.randint(1,1000)\n",
    "        counting_sort(arr,max(arr))\n",
    "        tend=time.time()\n",
    "        partial_time.append(tend-tstart)\n",
    "    total_time.append(np.mean(partial_time))\n",
    "for run_times_1 in range(len(total_time)):\n",
    "    print(\"第\"+str(run_times_1+1)+\"次平均計算時間為\"+str(total_time[run_times_1]))"
   ]
  },
  {
   "cell_type": "code",
   "execution_count": 4,
   "metadata": {},
   "outputs": [
    {
     "data": {
      "text/plain": [
       "Text(0, 0.5, '平均執行時間')"
      ]
     },
     "execution_count": 4,
     "metadata": {},
     "output_type": "execute_result"
    },
    {
     "data": {
      "image/png": "[encoded data removed]",
      "text/plain": [
       "<Figure size 432x288 with 1 Axes>"
      ]
     },
     "metadata": {
      "needs_background": "light"
     },
     "output_type": "display_data"
    }
   ],
   "source": [
    "plt.plot(arr_size,total_time)\n",
    "plt.xlabel('array大小',fontproperties=\"SimSun\")\n",
    "plt.ylabel('平均執行時間',fontproperties=\"SimSun\")"
   ]
  },
  {
   "cell_type": "markdown",
   "metadata": {},
   "source": [
    "# 根據(10x10)次test的平均時間 每差2次方的數字執行時間多2倍 估計結果如下:"
   ]
  },
  {
   "cell_type": "code",
   "execution_count": 8,
   "metadata": {},
   "outputs": [
    {
     "name": "stdout",
     "output_type": "stream",
     "text": [
      "第1次平均計算時間為0.019499993324279784\n",
      "第2次平均計算時間為0.021295547485351562\n",
      "第3次平均計算時間為0.025101876258850096\n",
      "第4次平均計算時間為0.047503328323364256\n",
      "第5次平均計算時間為0.09680752754211426\n",
      "第6次平均計算時間為0.18711280822753906\n",
      "第7次平均計算時間為0.45913522243499755\n",
      "第8次平均計算時間為0.8688649892807007\n",
      "第9次平均計算時間為1.7624319314956665\n",
      "第10次平均計算時間為3.4477660179138185\n",
      "第11次平均執行時間為6.895532035827637\n",
      "第12次平均執行時間為13.791064071655274\n",
      "第13次平均執行時間為27.58212814331055\n",
      "第14次平均執行時間為55.1642562866211\n",
      "第15次平均執行時間為110.3285125732422\n",
      "第16次平均執行時間為220.6570251464844\n",
      "第17次平均執行時間為441.3140502929688\n",
      "第18次平均執行時間為882.6281005859375\n",
      "第19次平均執行時間為1765.256201171875\n",
      "第20次平均執行時間為3530.51240234375\n"
     ]
    }
   ],
   "source": [
    "print('第1次平均計算時間為0.019499993324279784\\n第2次平均計算時間為0.021295547485351562\\n第3次平均計算時間為0.025101876258850096\\n第4次平均計算時間為0.047503328323364256\\n第5次平均計算時間為0.09680752754211426\\n第6次平均計算時間為0.18711280822753906\\n第7次平均計算時間為0.45913522243499755\\n第8次平均計算時間為0.8688649892807007\\n第9次平均計算時間為1.7624319314956665\\n第10次平均計算時間為3.4477660179138185')\n",
    "result_ans=3.4477660179138185\n",
    "for result in range(11,21):\n",
    "    result_ans=2*result_ans\n",
    "    print(\"第\"+str(result)+'次平均執行時間為'+str(result_ans))"
   ]
  },
  {
   "cell_type": "code",
   "execution_count": null,
   "metadata": {},
   "outputs": [],
   "source": []
  }
 ],
 "metadata": {
  "kernelspec": {
   "display_name": "Python 3",
   "language": "python",
   "name": "python3"
  },
  "language_info": {
   "codemirror_mode": {
    "name": "ipython",
    "version": 3
   },
   "file_extension": ".py",
   "mimetype": "text/x-python",
   "name": "python",
   "nbconvert_exporter": "python",
   "pygments_lexer": "ipython3",
   "version": "3.7.3"
  }
 },
 "nbformat": 4,
 "nbformat_minor": 2
}
