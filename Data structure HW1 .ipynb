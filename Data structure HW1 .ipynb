{
 "cells": [
  {
   "cell_type": "code",
   "execution_count": 1,
   "metadata": {},
   "outputs": [],
   "source": [
    "%matplotlib inline \n",
    "import numpy as np \n",
    "import time \n",
    "import matplotlib.pyplot as plt"
   ]
  },
  {
   "cell_type": "code",
   "execution_count": 2,
   "metadata": {},
   "outputs": [
    {
     "name": "stdout",
     "output_type": "stream",
     "text": [
      "[[  1   1]\n",
      " [  1   2]\n",
      " [  1   3]\n",
      " ...\n",
      " [100  98]\n",
      " [100  99]\n",
      " [100 100]]\n",
      "[[  1   1]\n",
      " [  1   2]\n",
      " [  1   3]\n",
      " ...\n",
      " [200 198]\n",
      " [200 199]\n",
      " [200 200]]\n",
      "[[  1   1]\n",
      " [  1   2]\n",
      " [  1   3]\n",
      " ...\n",
      " [300 298]\n",
      " [300 299]\n",
      " [300 300]]\n",
      "[[  1   1]\n",
      " [  1   2]\n",
      " [  1   3]\n",
      " ...\n",
      " [400 398]\n",
      " [400 399]\n",
      " [400 400]]\n",
      "[[  1   1]\n",
      " [  1   2]\n",
      " [  1   3]\n",
      " ...\n",
      " [500 498]\n",
      " [500 499]\n",
      " [500 500]]\n",
      "[[  1   1]\n",
      " [  1   2]\n",
      " [  1   3]\n",
      " ...\n",
      " [600 598]\n",
      " [600 599]\n",
      " [600 600]]\n",
      "[[  1   1]\n",
      " [  1   2]\n",
      " [  1   3]\n",
      " ...\n",
      " [700 698]\n",
      " [700 699]\n",
      " [700 700]]\n",
      "[[  1   1]\n",
      " [  1   2]\n",
      " [  1   3]\n",
      " ...\n",
      " [800 798]\n",
      " [800 799]\n",
      " [800 800]]\n",
      "[[  1   1]\n",
      " [  1   2]\n",
      " [  1   3]\n",
      " ...\n",
      " [900 898]\n",
      " [900 899]\n",
      " [900 900]]\n",
      "[[   1    1]\n",
      " [   1    2]\n",
      " [   1    3]\n",
      " ...\n",
      " [1000  998]\n",
      " [1000  999]\n",
      " [1000 1000]]\n"
     ]
    }
   ],
   "source": [
    "cost_time=[]\n",
    "for i in range(100, 1001, 100):\n",
    "    Time_start = time.time()\n",
    "    x = np.arange(1, i+1).reshape(i, 1)\n",
    "    y = np.arange(1, i+1)\n",
    "    print(np.c_[np.repeat(x,i),np.tile(y, (1,i)).reshape(i*i,1 )])\n",
    "    Time_end = time.time()\n",
    "    cost_time.append(Time_end - Time_start)"
   ]
  },
  {
   "cell_type": "code",
   "execution_count": 3,
   "metadata": {},
   "outputs": [
    {
     "data": {
      "image/png": "[encoded data removed]",
      "text/plain": [
       "<Figure size 432x288 with 1 Axes>"
      ]
     },
     "metadata": {
      "needs_background": "light"
     },
     "output_type": "display_data"
    }
   ],
   "source": [
    "x = list(range(100, 1001, 100))\n",
    "plt.scatter(x , cost_time, color = 'b') \n",
    "plt.show()"
   ]
  },
  {
   "cell_type": "code",
   "execution_count": null,
   "metadata": {},
   "outputs": [],
   "source": []
  }
 ],
 "metadata": {
  "kernelspec": {
   "display_name": "Python 3",
   "language": "python",
   "name": "python3"
  },
  "language_info": {
   "codemirror_mode": {
    "name": "ipython",
    "version": 3
   },
   "file_extension": ".py",
   "mimetype": "text/x-python",
   "name": "python",
   "nbconvert_exporter": "python",
   "pygments_lexer": "ipython3",
   "version": "3.7.3"
  }
 },
 "nbformat": 4,
 "nbformat_minor": 2
}
