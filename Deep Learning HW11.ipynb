{
 "cells": [
  {
   "cell_type": "code",
   "execution_count": 1,
   "metadata": {},
   "outputs": [],
   "source": [
    "%matplotlib inline\n",
    "import numpy as np\n",
    "import matplotlib.pyplot as plt"
   ]
  },
  {
   "cell_type": "code",
   "execution_count": 2,
   "metadata": {},
   "outputs": [],
   "source": [
    "import tensorflow as tf"
   ]
  },
  {
   "cell_type": "code",
   "execution_count": 3,
   "metadata": {},
   "outputs": [],
   "source": [
    "from tensorflow.keras.datasets import fashion_mnist"
   ]
  },
  {
   "cell_type": "code",
   "execution_count": 4,
   "metadata": {},
   "outputs": [],
   "source": [
    "(x_train, y_train), (x_test, y_test) = fashion_mnist.load_data() "
   ]
  },
  {
   "cell_type": "code",
   "execution_count": 5,
   "metadata": {},
   "outputs": [],
   "source": [
    "class_names = ['T-shirt/top', 'Trouser', 'Pullover', 'Dress', 'Coat',\n",
    "               'Sandal', 'Shirt', 'Sneaker', 'Bag', 'Ankle boot']"
   ]
  },
  {
   "cell_type": "code",
   "execution_count": 6,
   "metadata": {},
   "outputs": [
    {
     "name": "stdout",
     "output_type": "stream",
     "text": [
      "Bag\n"
     ]
    },
    {
     "data": {
      "image/png": "[encoded data removed]",
      "text/plain": [
       "<Figure size 432x288 with 1 Axes>"
      ]
     },
     "metadata": {
      "needs_background": "light"
     },
     "output_type": "display_data"
    }
   ],
   "source": [
    "n=200\n",
    "print(class_names[y_train[n]])\n",
    "plt.imshow(x_train[n], cmap='RdPu');"
   ]
  },
  {
   "cell_type": "code",
   "execution_count": 7,
   "metadata": {},
   "outputs": [],
   "source": [
    "x_train = x_train / 255\n",
    "x_test = x_test / 255"
   ]
  },
  {
   "cell_type": "code",
   "execution_count": 8,
   "metadata": {},
   "outputs": [],
   "source": [
    "x_train = x_train.reshape(60000,784)\n",
    "x_test = x_test.reshape(10000,784)"
   ]
  },
  {
   "cell_type": "code",
   "execution_count": 9,
   "metadata": {},
   "outputs": [],
   "source": [
    "from tensorflow.keras.utils import to_categorical"
   ]
  },
  {
   "cell_type": "code",
   "execution_count": 10,
   "metadata": {},
   "outputs": [],
   "source": [
    "y_train = to_categorical(y_train, 10)"
   ]
  },
  {
   "cell_type": "code",
   "execution_count": 11,
   "metadata": {},
   "outputs": [],
   "source": [
    "y_test = to_categorical(y_test, 10)"
   ]
  },
  {
   "cell_type": "code",
   "execution_count": 12,
   "metadata": {},
   "outputs": [],
   "source": [
    "from tensorflow.keras.models import Sequential\n",
    "from tensorflow.keras.layers import Dense\n",
    "from tensorflow.keras.optimizers import SGD"
   ]
  },
  {
   "cell_type": "code",
   "execution_count": 13,
   "metadata": {},
   "outputs": [],
   "source": [
    "model = Sequential()"
   ]
  },
  {
   "cell_type": "code",
   "execution_count": 14,
   "metadata": {},
   "outputs": [
    {
     "name": "stdout",
     "output_type": "stream",
     "text": [
      "WARNING:tensorflow:From C:\\Users\\user\\Anaconda3\\lib\\site-packages\\tensorflow\\python\\ops\\init_ops.py:1251: calling VarianceScaling.__init__ (from tensorflow.python.ops.init_ops) with dtype is deprecated and will be removed in a future version.\n",
      "Instructions for updating:\n",
      "Call initializer instance with the dtype argument instead of passing it to the constructor\n"
     ]
    }
   ],
   "source": [
    "model.add(Dense(88, input_dim = 784, activation = 'relu'))\n",
    "model.add(Dense(821, activation = 'relu'))\n",
    "model.add(Dense(325, activation = 'relu'))\n",
    "model.add(Dense(10, activation = 'softmax'))"
   ]
  },
  {
   "cell_type": "code",
   "execution_count": 15,
   "metadata": {},
   "outputs": [],
   "source": [
    "model.compile(loss = 'mse', optimizer = SGD(lr = 0.03), metrics = ['accuracy'])"
   ]
  },
  {
   "cell_type": "code",
   "execution_count": 16,
   "metadata": {},
   "outputs": [
    {
     "name": "stdout",
     "output_type": "stream",
     "text": [
      "Model: \"sequential\"\n",
      "_________________________________________________________________\n",
      "Layer (type)                 Output Shape              Param #   \n",
      "=================================================================\n",
      "dense (Dense)                (None, 88)                69080     \n",
      "_________________________________________________________________\n",
      "dense_1 (Dense)              (None, 821)               73069     \n",
      "_________________________________________________________________\n",
      "dense_2 (Dense)              (None, 325)               267150    \n",
      "_________________________________________________________________\n",
      "dense_3 (Dense)              (None, 10)                3260      \n",
      "=================================================================\n",
      "Total params: 412,559\n",
      "Trainable params: 412,559\n",
      "Non-trainable params: 0\n",
      "_________________________________________________________________\n"
     ]
    }
   ],
   "source": [
    "model.summary()"
   ]
  },
  {
   "cell_type": "markdown",
   "metadata": {},
   "source": [
    "## 修改訓練次數\n"
   ]
  },
  {
   "cell_type": "code",
   "execution_count": 17,
   "metadata": {},
   "outputs": [
    {
     "name": "stdout",
     "output_type": "stream",
     "text": [
      "Epoch 1/50\n",
      "60000/60000 [==============================] - 4s 74us/sample - loss: 0.0888 - acc: 0.1736\n",
      "Epoch 2/50\n",
      "60000/60000 [==============================] - 4s 74us/sample - loss: 0.0857 - acc: 0.3255\n",
      "Epoch 3/50\n",
      "60000/60000 [==============================] - 4s 73us/sample - loss: 0.0800 - acc: 0.4326\n",
      "Epoch 4/50\n",
      "60000/60000 [==============================] - 4s 72us/sample - loss: 0.0698 - acc: 0.5623\n",
      "Epoch 5/50\n",
      "60000/60000 [==============================] - 4s 73us/sample - loss: 0.0585 - acc: 0.6420\n",
      "Epoch 6/50\n",
      "60000/60000 [==============================] - 4s 71us/sample - loss: 0.0508 - acc: 0.6554\n",
      "Epoch 7/50\n",
      "60000/60000 [==============================] - 4s 69us/sample - loss: 0.0464 - acc: 0.6641\n",
      "Epoch 8/50\n",
      "60000/60000 [==============================] - 4s 71us/sample - loss: 0.0434 - acc: 0.6783\n",
      "Epoch 9/50\n",
      "60000/60000 [==============================] - 4s 68us/sample - loss: 0.0412 - acc: 0.70351\n",
      "Epoch 10/50\n",
      "60000/60000 [==============================] - 4s 70us/sample - loss: 0.0395 - acc: 0.7257\n",
      "Epoch 11/50\n",
      "60000/60000 [==============================] - 4s 69us/sample - loss: 0.0379 - acc: 0.7437\n",
      "Epoch 12/50\n",
      "60000/60000 [==============================] - 4s 68us/sample - loss: 0.0364 - acc: 0.7582\n",
      "Epoch 13/50\n",
      "60000/60000 [==============================] - 4s 70us/sample - loss: 0.0351 - acc: 0.7707\n",
      "Epoch 14/50\n",
      "60000/60000 [==============================] - 4s 65us/sample - loss: 0.0339 - acc: 0.7792\n",
      "Epoch 15/50\n",
      "60000/60000 [==============================] - 4s 68us/sample - loss: 0.0329 - acc: 0.7874\n",
      "Epoch 16/50\n",
      "60000/60000 [==============================] - 4s 72us/sample - loss: 0.0319 - acc: 0.7948\n",
      "Epoch 17/50\n",
      "60000/60000 [==============================] - 4s 70us/sample - loss: 0.0311 - acc: 0.8000\n",
      "Epoch 18/50\n",
      "60000/60000 [==============================] - 4s 69us/sample - loss: 0.0304 - acc: 0.8040\n",
      "Epoch 19/50\n",
      "60000/60000 [==============================] - 4s 73us/sample - loss: 0.0297 - acc: 0.8079\n",
      "Epoch 20/50\n",
      "60000/60000 [==============================] - 4s 70us/sample - loss: 0.0291 - acc: 0.8107\n",
      "Epoch 21/50\n",
      "60000/60000 [==============================] - 4s 72us/sample - loss: 0.0286 - acc: 0.8134\n",
      "Epoch 22/50\n",
      "60000/60000 [==============================] - 4s 71us/sample - loss: 0.0281 - acc: 0.8166\n",
      "Epoch 23/50\n",
      "60000/60000 [==============================] - 4s 70us/sample - loss: 0.0277 - acc: 0.8182\n",
      "Epoch 24/50\n",
      "60000/60000 [==============================] - 4s 69us/sample - loss: 0.0273 - acc: 0.8199\n",
      "Epoch 25/50\n",
      "60000/60000 [==============================] - 4s 70us/sample - loss: 0.0270 - acc: 0.8217\n",
      "Epoch 26/50\n",
      "60000/60000 [==============================] - 4s 72us/sample - loss: 0.0266 - acc: 0.8243\n",
      "Epoch 27/50\n",
      "60000/60000 [==============================] - 4s 70us/sample - loss: 0.0263 - acc: 0.8256\n",
      "Epoch 28/50\n",
      "60000/60000 [==============================] - 4s 72us/sample - loss: 0.0261 - acc: 0.8267\n",
      "Epoch 29/50\n",
      "60000/60000 [==============================] - 4s 69us/sample - loss: 0.0258 - acc: 0.8281\n",
      "Epoch 30/50\n",
      "60000/60000 [==============================] - 4s 73us/sample - loss: 0.0256 - acc: 0.8292\n",
      "Epoch 31/50\n",
      "60000/60000 [==============================] - 4s 65us/sample - loss: 0.0253 - acc: 0.8304\n",
      "Epoch 32/50\n",
      "60000/60000 [==============================] - 4s 67us/sample - loss: 0.0251 - acc: 0.8318\n",
      "Epoch 33/50\n",
      "60000/60000 [==============================] - 4s 74us/sample - loss: 0.0249 - acc: 0.8335\n",
      "Epoch 34/50\n",
      "60000/60000 [==============================] - 4s 71us/sample - loss: 0.0247 - acc: 0.8343\n",
      "Epoch 35/50\n",
      "60000/60000 [==============================] - 4s 70us/sample - loss: 0.0246 - acc: 0.8348\n",
      "Epoch 36/50\n",
      "60000/60000 [==============================] - 4s 71us/sample - loss: 0.0244 - acc: 0.8363\n",
      "Epoch 37/50\n",
      "60000/60000 [==============================] - 4s 71us/sample - loss: 0.0242 - acc: 0.8366\n",
      "Epoch 38/50\n",
      "60000/60000 [==============================] - 4s 71us/sample - loss: 0.0241 - acc: 0.8382\n",
      "Epoch 39/50\n",
      "60000/60000 [==============================] - 4s 70us/sample - loss: 0.0239 - acc: 0.8387\n",
      "Epoch 40/50\n",
      "60000/60000 [==============================] - 4s 70us/sample - loss: 0.0238 - acc: 0.8396\n",
      "Epoch 41/50\n",
      "60000/60000 [==============================] - 4s 71us/sample - loss: 0.0237 - acc: 0.8403\n",
      "Epoch 42/50\n",
      "60000/60000 [==============================] - 4s 70us/sample - loss: 0.0235 - acc: 0.8413\n",
      "Epoch 43/50\n",
      "60000/60000 [==============================] - 4s 73us/sample - loss: 0.0234 - acc: 0.8420\n",
      "Epoch 44/50\n",
      "60000/60000 [==============================] - 4s 69us/sample - loss: 0.0233 - acc: 0.8436\n",
      "Epoch 45/50\n",
      "60000/60000 [==============================] - 4s 71us/sample - loss: 0.0232 - acc: 0.8430\n",
      "Epoch 46/50\n",
      "60000/60000 [==============================] - 4s 70us/sample - loss: 0.0230 - acc: 0.8443\n",
      "Epoch 47/50\n",
      "60000/60000 [==============================] - 4s 69us/sample - loss: 0.0229 - acc: 0.8453\n",
      "Epoch 48/50\n",
      "60000/60000 [==============================] - 4s 69us/sample - loss: 0.0228 - acc: 0.8453\n",
      "Epoch 49/50\n",
      "60000/60000 [==============================] - 4s 71us/sample - loss: 0.0227 - acc: 0.8475\n",
      "Epoch 50/50\n",
      "60000/60000 [==============================] - 4s 70us/sample - loss: 0.0226 - acc: 0.8477\n"
     ]
    },
    {
     "data": {
      "text/plain": [
       "<tensorflow.python.keras.callbacks.History at 0x1e285e48f98>"
      ]
     },
     "execution_count": 17,
     "metadata": {},
     "output_type": "execute_result"
    }
   ],
   "source": [
    "model.fit(x_train, y_train, batch_size=150, epochs=50)"
   ]
  },
  {
   "cell_type": "markdown",
   "metadata": {},
   "source": [
    "## 把accuracy調到9成以上 "
   ]
  },
  {
   "cell_type": "code",
   "execution_count": 18,
   "metadata": {},
   "outputs": [
    {
     "name": "stdout",
     "output_type": "stream",
     "text": [
      "Epoch 1/50\n",
      "60000/60000 [==============================] - 5s 77us/sample - loss: 0.0225 - acc: 0.8478\n",
      "Epoch 2/50\n",
      "60000/60000 [==============================] - 4s 71us/sample - loss: 0.0224 - acc: 0.8486\n",
      "Epoch 3/50\n",
      "60000/60000 [==============================] - 5s 77us/sample - loss: 0.0224 - acc: 0.8497\n",
      "Epoch 4/50\n",
      "60000/60000 [==============================] - 4s 67us/sample - loss: 0.0223 - acc: 0.8500\n",
      "Epoch 5/50\n",
      "60000/60000 [==============================] - 4s 64us/sample - loss: 0.0222 - acc: 0.8509\n",
      "Epoch 6/50\n",
      "60000/60000 [==============================] - 4s 65us/sample - loss: 0.0221 - acc: 0.8509\n",
      "Epoch 7/50\n",
      "60000/60000 [==============================] - 4s 64us/sample - loss: 0.0220 - acc: 0.8508\n",
      "Epoch 8/50\n",
      "60000/60000 [==============================] - 4s 63us/sample - loss: 0.0220 - acc: 0.8523\n",
      "Epoch 9/50\n",
      "60000/60000 [==============================] - 4s 63us/sample - loss: 0.0219 - acc: 0.8526\n",
      "Epoch 10/50\n",
      "60000/60000 [==============================] - 4s 71us/sample - loss: 0.0218 - acc: 0.8529\n",
      "Epoch 11/50\n",
      "60000/60000 [==============================] - 4s 64us/sample - loss: 0.0217 - acc: 0.8547\n",
      "Epoch 12/50\n",
      "60000/60000 [==============================] - 4s 66us/sample - loss: 0.0217 - acc: 0.8542\n",
      "Epoch 13/50\n",
      "60000/60000 [==============================] - 4s 64us/sample - loss: 0.0216 - acc: 0.8546\n",
      "Epoch 14/50\n",
      "60000/60000 [==============================] - 6s 95us/sample - loss: 0.0215 - acc: 0.8548\n",
      "Epoch 15/50\n",
      "60000/60000 [==============================] - 6s 105us/sample - loss: 0.0214 - acc: 0.8561\n",
      "Epoch 16/50\n",
      "60000/60000 [==============================] - 4s 70us/sample - loss: 0.0214 - acc: 0.8557\n",
      "Epoch 17/50\n",
      "60000/60000 [==============================] - 4s 68us/sample - loss: 0.0213 - acc: 0.8563\n",
      "Epoch 18/50\n",
      "60000/60000 [==============================] - 4s 70us/sample - loss: 0.0212 - acc: 0.8566\n",
      "Epoch 19/50\n",
      "60000/60000 [==============================] - 4s 70us/sample - loss: 0.0212 - acc: 0.8577\n",
      "Epoch 20/50\n",
      "60000/60000 [==============================] - 4s 67us/sample - loss: 0.0211 - acc: 0.8578\n",
      "Epoch 21/50\n",
      "60000/60000 [==============================] - 4s 67us/sample - loss: 0.0211 - acc: 0.8579\n",
      "Epoch 22/50\n",
      "60000/60000 [==============================] - 4s 65us/sample - loss: 0.0210 - acc: 0.8581\n",
      "Epoch 23/50\n",
      "60000/60000 [==============================] - 4s 66us/sample - loss: 0.0210 - acc: 0.8591\n",
      "Epoch 24/50\n",
      "60000/60000 [==============================] - 4s 68us/sample - loss: 0.0209 - acc: 0.8588\n",
      "Epoch 25/50\n",
      "60000/60000 [==============================] - 4s 69us/sample - loss: 0.0209 - acc: 0.8598\n",
      "Epoch 26/50\n",
      "60000/60000 [==============================] - 4s 66us/sample - loss: 0.0208 - acc: 0.8602\n",
      "Epoch 27/50\n",
      "60000/60000 [==============================] - 4s 66us/sample - loss: 0.0208 - acc: 0.8602\n",
      "Epoch 28/50\n",
      "60000/60000 [==============================] - 4s 67us/sample - loss: 0.0207 - acc: 0.8605\n",
      "Epoch 29/50\n",
      "60000/60000 [==============================] - 4s 64us/sample - loss: 0.0206 - acc: 0.8613\n",
      "Epoch 30/50\n",
      "60000/60000 [==============================] - 4s 75us/sample - loss: 0.0206 - acc: 0.8616\n",
      "Epoch 31/50\n",
      "60000/60000 [==============================] - 4s 68us/sample - loss: 0.0205 - acc: 0.8619\n",
      "Epoch 32/50\n",
      "60000/60000 [==============================] - 4s 64us/sample - loss: 0.0205 - acc: 0.8614\n",
      "Epoch 33/50\n",
      "60000/60000 [==============================] - 4s 63us/sample - loss: 0.0204 - acc: 0.8624\n",
      "Epoch 34/50\n",
      "60000/60000 [==============================] - 4s 65us/sample - loss: 0.0204 - acc: 0.8630\n",
      "Epoch 35/50\n",
      "60000/60000 [==============================] - 4s 65us/sample - loss: 0.0203 - acc: 0.8629\n",
      "Epoch 36/50\n",
      "60000/60000 [==============================] - 4s 65us/sample - loss: 0.0203 - acc: 0.8638\n",
      "Epoch 37/50\n",
      "60000/60000 [==============================] - 4s 65us/sample - loss: 0.0202 - acc: 0.8636\n",
      "Epoch 38/50\n",
      "60000/60000 [==============================] - 4s 69us/sample - loss: 0.0202 - acc: 0.8638\n",
      "Epoch 39/50\n",
      "60000/60000 [==============================] - 4s 68us/sample - loss: 0.0202 - acc: 0.8637\n",
      "Epoch 40/50\n",
      "60000/60000 [==============================] - 4s 70us/sample - loss: 0.0201 - acc: 0.8644\n",
      "Epoch 41/50\n",
      "60000/60000 [==============================] - 4s 70us/sample - loss: 0.0201 - acc: 0.8639\n",
      "Epoch 42/50\n",
      "60000/60000 [==============================] - 4s 73us/sample - loss: 0.0200 - acc: 0.8650\n",
      "Epoch 43/50\n",
      "60000/60000 [==============================] - 4s 72us/sample - loss: 0.0200 - acc: 0.8658\n",
      "Epoch 44/50\n",
      "60000/60000 [==============================] - 4s 72us/sample - loss: 0.0199 - acc: 0.8653\n",
      "Epoch 45/50\n",
      "60000/60000 [==============================] - 5s 78us/sample - loss: 0.0199 - acc: 0.8665\n",
      "Epoch 46/50\n",
      "60000/60000 [==============================] - 5s 77us/sample - loss: 0.0199 - acc: 0.8665\n",
      "Epoch 47/50\n",
      "60000/60000 [==============================] - 4s 73us/sample - loss: 0.0198 - acc: 0.8667\n",
      "Epoch 48/50\n",
      "60000/60000 [==============================] - 4s 74us/sample - loss: 0.0198 - acc: 0.8662\n",
      "Epoch 49/50\n",
      "60000/60000 [==============================] - 4s 73us/sample - loss: 0.0198 - acc: 0.8671\n",
      "Epoch 50/50\n",
      "60000/60000 [==============================] - 4s 73us/sample - loss: 0.0197 - acc: 0.8672\n"
     ]
    }
   ],
   "source": [
    "history=model.fit(x_train, y_train, batch_size=150, epochs=50)"
   ]
  },
  {
   "cell_type": "code",
   "execution_count": 19,
   "metadata": {},
   "outputs": [],
   "source": [
    "result = model.predict_classes(x_test)"
   ]
  },
  {
   "cell_type": "code",
   "execution_count": 20,
   "metadata": {},
   "outputs": [],
   "source": [
    "from numpy import argmax"
   ]
  },
  {
   "cell_type": "code",
   "execution_count": 28,
   "metadata": {},
   "outputs": [
    {
     "name": "stdout",
     "output_type": "stream",
     "text": [
      "測試結果Ankle boot\n",
      "答案Ankle boot\n",
      "測試結果Pullover\n",
      "答案Pullover\n",
      "測試結果Trouser\n",
      "答案Trouser\n",
      "測試結果Trouser\n",
      "答案Trouser\n",
      "測試結果Shirt\n",
      "答案Shirt\n",
      "測試結果Trouser\n",
      "答案Trouser\n",
      "測試結果Coat\n",
      "答案Coat\n",
      "測試結果Shirt\n",
      "答案Shirt\n",
      "測試結果Sandal\n",
      "答案Sandal\n",
      "測試結果Sneaker\n",
      "答案Sneaker\n"
     ]
    },
    {
     "data": {
      "image/png": "[encoded data removed]",
      "text/plain": [
       "<Figure size 432x288 with 10 Axes>"
      ]
     },
     "metadata": {
      "needs_background": "light"
     },
     "output_type": "display_data"
    }
   ],
   "source": [
    "for i in range(10):\n",
    "    plt.subplot(1,10,i+1)\n",
    "    plt.imshow(x_test[i].reshape(28,28), cmap='Greys')\n",
    "    print('測試結果'+class_names[result[i]])\n",
    "    print('答案'+class_names[argmax(y_test[i])])"
   ]
  },
  {
   "cell_type": "markdown",
   "metadata": {},
   "source": [
    "## 目前看來正確率不錯  再加入互動元件 自己選擇要測試的"
   ]
  },
  {
   "cell_type": "code",
   "execution_count": 36,
   "metadata": {},
   "outputs": [],
   "source": [
    "from ipywidgets import interact_manual\n",
    "from ipywidgets import interact\n",
    "from ipywidgets import widgets"
   ]
  },
  {
   "cell_type": "code",
   "execution_count": 41,
   "metadata": {},
   "outputs": [
    {
     "data": {
      "application/vnd.jupyter.widget-view+json": {
       "model_id": "022e91dd273c48af8177987a60e287af",
       "version_major": 2,
       "version_minor": 0
      },
      "text/plain": [
       "interactive(children=(IntSlider(value=9999, description='x', max=29997, min=-9999), Button(description='Run In…"
      ]
     },
     "metadata": {},
     "output_type": "display_data"
    },
    {
     "data": {
      "text/plain": [
       "<function __main__.f(x)>"
      ]
     },
     "execution_count": 41,
     "metadata": {},
     "output_type": "execute_result"
    }
   ],
   "source": [
    "def f(x):\n",
    "    print('測試結果'+class_names[result[x]])\n",
    "    print('答案'+class_names[argmax(y_test[x])])\n",
    "    plt.imshow(x_test[x].reshape(28,28), cmap='coolwarm')\n",
    "interact_manual(f,x=9999) ##0~9999 剛好一萬筆資料"
   ]
  },
  {
   "cell_type": "code",
   "execution_count": null,
   "metadata": {},
   "outputs": [],
   "source": []
  }
 ],
 "metadata": {
  "kernelspec": {
   "display_name": "Python 3",
   "language": "python",
   "name": "python3"
  },
  "language_info": {
   "codemirror_mode": {
    "name": "ipython",
    "version": 3
   },
   "file_extension": ".py",
   "mimetype": "text/x-python",
   "name": "python",
   "nbconvert_exporter": "python",
   "pygments_lexer": "ipython3",
   "version": "3.7.3"
  }
 },
 "nbformat": 4,
 "nbformat_minor": 2
}
