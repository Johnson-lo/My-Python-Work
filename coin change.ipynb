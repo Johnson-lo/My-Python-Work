{
 "cells": [
  {
   "cell_type": "code",
   "execution_count": 4,
   "metadata": {},
   "outputs": [],
   "source": [
    "%matplotlib inline "
   ]
  },
  {
   "cell_type": "code",
   "execution_count": 5,
   "metadata": {},
   "outputs": [
    {
     "name": "stdout",
     "output_type": "stream",
     "text": [
      "最少硬幣數: 5\n",
      "可找的硬幣: 4 4 4 5 5 "
     ]
    }
   ],
   "source": [
    "def changeCoins(coins, n):\n",
    "    if n < 0: return None\n",
    "    dp, path = [0] * (n+1), [0] * (n+1)  # 初始化\n",
    "    for i in range(1, n+1):\n",
    "        minNum = i  # 初始化當前最佳幣值\n",
    "        for c in coins:  # 掃描硬幣列表，選擇最優值\n",
    "            if i >= c and minNum > dp[i-c]+1:\n",
    "                minNum, path[i] = dp[i-c]+1, i - c\n",
    "        dp[i] = minNum  # 更新最佳幣值\n",
    "                \n",
    " \n",
    "    print('最少硬幣數:', dp[-1])\n",
    "    print('可找的硬幣', end=': ')\n",
    "    while path[n] != 0:\n",
    "        print(n-path[n], end=' ')\n",
    "        n = path[n]\n",
    "    print(n, end=' ')\n",
    " \n",
    " \n",
    "if __name__ == '__main__':\n",
    "    coins, n = [1, 4, 5], 22  # 輸入可兌換硬幣種類，總金額n\n",
    "    changeCoins(coins, n)"
   ]
  },
  {
   "cell_type": "code",
   "execution_count": null,
   "metadata": {},
   "outputs": [],
   "source": []
  }
 ],
 "metadata": {
  "kernelspec": {
   "display_name": "Python 3",
   "language": "python",
   "name": "python3"
  },
  "language_info": {
   "codemirror_mode": {
    "name": "ipython",
    "version": 3
   },
   "file_extension": ".py",
   "mimetype": "text/x-python",
   "name": "python",
   "nbconvert_exporter": "python",
   "pygments_lexer": "ipython3",
   "version": "3.7.3"
  }
 },
 "nbformat": 4,
 "nbformat_minor": 2
}
