{
 "cells": [
  {
   "cell_type": "code",
   "execution_count": 1,
   "metadata": {},
   "outputs": [],
   "source": [
    "%matplotlib inline"
   ]
  },
  {
   "cell_type": "markdown",
   "metadata": {},
   "source": [
    "## 題目介紹: \n",
    "                有2張拼圖，90度 180度 270度或是平移可以拼出一張 *** 輸出yes .為空白 *為拼圖部分\n",
    "                                                             ***\n",
    "                                                             ***"
   ]
  },
  {
   "cell_type": "code",
   "execution_count": 24,
   "metadata": {},
   "outputs": [
    {
     "name": "stdout",
     "output_type": "stream",
     "text": [
      "***\n"
     ]
    }
   ],
   "source": [
    "while(True):    \n",
    "    puz1_1=input('第一張圖第一行:')\n",
    "    puz1_2=input('第一張圖第二行:')\n",
    "    puz1_3=input('第一張圖第三行:')\n",
    "    print()\n",
    "    puz2_1=input('第二張圖第一行:')\n",
    "    puz2_2=input('第二張圖第二行:')\n",
    "    puz2_3=input('第二張圖第三行:')\n",
    "    if len(puz1_1)!=3 or len(puz1_2)!=3 or len(puz1_3)!=3 or len(puz2_1)!=3 or len(puz2_2)!=3 or len(puz2_3)!=3:\n",
    "        print(\"請輸入3格,重新再輸入!!!\")\n",
    "        print('-'*50)\n",
    "        \n",
    "        continue\n",
    "    else:\n",
    "        break\n",
    "\n",
    "A=puz1_1+puz1_2+puz1_3\n",
    "B=puz2_1+puz2_2+puz2_3\n"
   ]
  },
  {
   "cell_type": "code",
   "execution_count": 20,
   "metadata": {},
   "outputs": [],
   "source": [
    "\n",
    "a=[A[0],A[1],A[2],A[3],A[4],A[5],A[6],A[7],A[8]]\n",
    "\n",
    "b1=([B[0],B[1],B[2],B[3],B[4],B[5],B[6],B[7],B[8]])#原\n",
    "b1_1=(['.','.','.',B[0],B[1],B[2],B[3],B[4],B[5]])#下\n",
    "b1_2=([B[3],B[4],B[5],B[6],B[7],B[8],'.','.','.'])#上\n",
    "b1_3=([B[1],B[2],'.',B[4],B[5],'.',B[7],B[8],'.'])#左\n",
    "b1_4=(['.',B[0],B[1],'.',B[3],B[4],'.',B[6],B[7]])#右\n",
    "b1_1_1=(['.','.','.','.','.','.',B[0],B[1],B[2]])\n",
    "b1_2_1=([B[6],B[7],B[8],'.','.','.','.','.','.'])\n",
    "b1_3_1=([B[2],'.','.',B[5],'.','.',B[8],'.','.'])\n",
    "b1_4_1=(['.','.',B[0],'.','.',B[3],'.','.',B[6]])\n",
    "\n",
    "b2=([B[6],B[3],B[0],B[7],B[4],B[1],B[8],B[5],B[2]])#右翻\n",
    "b2_1=(['.','.','.',B[6],B[3],B[0],B[7],B[4],B[1]])#下\n",
    "b2_2=([B[7],B[5],B[1],B[8],B[5],B[2],'.','.','.'])#上\n",
    "b2_3=([B[3],B[0],'.',B[4],B[1],'.',B[5],B[2],'.'])#左\n",
    "b2_4=(['.',B[6],B[3],'.',B[7],B[4],'.',B[8],B[5]])#右\n",
    "b2_1_1=(['.','.','.','.','.','.',B[6],B[3],B[0]])\n",
    "b2_2_1=([B[8],B[5],B[2],'.','.','.','.','.','.'])\n",
    "b2_3_1=([B[0],'.','.',B[1],'.','.',B[2],'.','.'])\n",
    "b2_4_1=(['.','.',B[6],'.','.',B[7],'.','.',B[8]])\n",
    "\n",
    "b3=([B[2],B[5],B[8],B[1],B[4],B[7],B[0],B[3],B[6]])#左翻\n",
    "b3_1=(['.','.','.',B[2],B[5],B[8],B[1],B[4],B[7]])#下\n",
    "b3_2=([B[1],B[4],B[7],B[0],B[3],B[6],'.','.','.'])#上\n",
    "b3_3=([B[5],B[8],'.',B[4],B[7],'.',B[3],B[6],'.'])#左\n",
    "b3_4=(['.',B[2],B[5],'.',B[1],B[4],'.',B[0],B[3]])#右\n",
    "b3_1_1=(['.','.','.','.','.','.',B[2],B[5],B[8]])\n",
    "b3_2_1=([B[0],B[3],B[6],'.','.','.','.','.','.'])\n",
    "b3_3_1=([B[8],'.','.',B[7],'.','.',B[6],'.','.'])\n",
    "b3_4_1=(['.','.',B[2],'.','.',B[1],'.','.',B[0]])\n",
    "\n",
    "b4=([B[8],B[7],B[6],B[5],B[4],B[3],B[2],B[1],B[0]])#顛倒\n",
    "b4_1=(['.','.','.',B[8],B[7],B[6],B[5],B[4],B[3]])#下\n",
    "b4_2=([B[5],B[4],B[3],B[2],B[1],B[0],'.','.','.'])#上\n",
    "b4_3=([B[7],B[6],'.',B[4],B[3],'.',B[1],B[0],'.'])#左\n",
    "b4_4=(['.',B[8],B[7],'.',B[5],B[4],'.',B[3],B[2]])#右\n",
    "b4_1_1=(['.','.','.','.','.','.',B[8],B[7],B[6]])\n",
    "b4_2_1=([B[2],B[1],B[0],'.','.','.','.','.','.'])\n",
    "b4_3_1=([B[6],'.','.',B[3],'.','.',B[0],'.','.'])\n",
    "b4_4_1=(['.','.',B[8],'.','.',B[5],'.','.',B[2]])\n",
    "\n",
    "change={'*':'.','.':'*'}\n",
    "change_a=[change[x] if x in change else x for x in a ]\n"
   ]
  },
  {
   "cell_type": "code",
   "execution_count": 21,
   "metadata": {},
   "outputs": [
    {
     "name": "stdout",
     "output_type": "stream",
     "text": [
      "Yes\n"
     ]
    }
   ],
   "source": [
    "\n",
    "    if change_a==b1 or change_a==b1_1 or change_a==b1_2 or change_a==b1_3 or change_a==b1_4 or change_a==b2 or change_a==b2_1 or change_a==b2_2 or change_a==b2_3 or change_a==b2_4 or change_a==b3 or change_a==b3_1 or change_a==b3_2 or change_a==b3_3 or change_a==b3_4 or change_a==b4 or change_a==b4_1 or change_a==b4_2 or change_a==b4_3 or change_a==b4_4change_a==b1_1_1 orchange_a==b1_2_1 orchange_a==b1_3_1 orchange_a==b1_4_1 orchange_a==b2_1_1 orchange_a==b2_2_1 orchange_a==b2_3_1 orchange_a==b2_4_1 orchange_a==b3_1_1 orchange_a==b3_2_1 orchange_a==b3_3_1 orchange_a==b3_4_1 orchange_a==b4_1_1 orchange_a==b4_2_1 orchange_a==b4_3_1 orchange_a==b4_4_1 or:\n",
    "        print('Yes')\n",
    "    else:\n",
    "        print('No')\n"
   ]
  }
 ],
 "metadata": {
  "kernelspec": {
   "display_name": "Python 3",
   "language": "python",
   "name": "python3"
  },
  "language_info": {
   "codemirror_mode": {
    "name": "ipython",
    "version": 3
   },
   "file_extension": ".py",
   "mimetype": "text/x-python",
   "name": "python",
   "nbconvert_exporter": "python",
   "pygments_lexer": "ipython3",
   "version": "3.7.3"
  }
 },
 "nbformat": 4,
 "nbformat_minor": 2
}
