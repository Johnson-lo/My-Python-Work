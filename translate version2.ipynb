{
 "cells": [
  {
   "cell_type": "code",
   "execution_count": 1,
   "metadata": {},
   "outputs": [
    {
     "name": "stdout",
     "output_type": "stream",
     "text": [
      "Requirement already satisfied: googletrans in c:\\users\\user\\anaconda3\\lib\\site-packages (2.4.0)\n",
      "Requirement already satisfied: requests in c:\\users\\user\\anaconda3\\lib\\site-packages (from googletrans) (2.22.0)\n",
      "Requirement already satisfied: certifi>=2017.4.17 in c:\\users\\user\\anaconda3\\lib\\site-packages (from requests->googletrans) (2019.6.16)\n",
      "Requirement already satisfied: urllib3!=1.25.0,!=1.25.1,<1.26,>=1.21.1 in c:\\users\\user\\anaconda3\\lib\\site-packages (from requests->googletrans) (1.24.2)\n",
      "Requirement already satisfied: chardet<3.1.0,>=3.0.2 in c:\\users\\user\\anaconda3\\lib\\site-packages (from requests->googletrans) (3.0.4)\n",
      "Requirement already satisfied: idna<2.9,>=2.5 in c:\\users\\user\\anaconda3\\lib\\site-packages (from requests->googletrans) (2.8)\n",
      "Note: you may need to restart the kernel to use updated packages.\n"
     ]
    }
   ],
   "source": [
    "pip install googletrans"
   ]
  },
  {
   "cell_type": "code",
   "execution_count": 2,
   "metadata": {},
   "outputs": [],
   "source": [
    "from googletrans import Translator\n",
    "from ipywidgets import interact_manual\n",
    "from ipywidgets import interact\n",
    "from ipywidgets import widgets"
   ]
  },
  {
   "cell_type": "code",
   "execution_count": 3,
   "metadata": {},
   "outputs": [],
   "source": [
    "LANGUAGES = {\n",
    "    'af': 'afrikaans',\n",
    "    'sq': 'albanian',\n",
    "    'am': 'amharic',\n",
    "    'ar': 'arabic',\n",
    "    'hy': 'armenian',\n",
    "    'az': 'azerbaijani',\n",
    "    'eu': 'basque',\n",
    "    'be': 'belarusian',\n",
    "    'bn': 'bengali',\n",
    "    'bs': 'bosnian',\n",
    "    'bg': 'bulgarian',\n",
    "    'ca': 'catalan',\n",
    "    'ceb': 'cebuano',\n",
    "    'ny': 'chichewa',\n",
    "    'zh-cn': 'chinese (simplified)',\n",
    "    'zh-tw': 'chinese (traditional)',\n",
    "    'co': 'corsican',\n",
    "    'hr': 'croatian',\n",
    "    'cs': 'czech',\n",
    "    'da': 'danish',\n",
    "    'nl': 'dutch',\n",
    "    'en': 'english',\n",
    "    'eo': 'esperanto',\n",
    "    'et': 'estonian',\n",
    "    'tl': 'filipino',\n",
    "    'fi': 'finnish',\n",
    "    'fr': 'french',\n",
    "    'fy': 'frisian',\n",
    "    'gl': 'galician',\n",
    "    'ka': 'georgian',\n",
    "    'de': 'german',\n",
    "    'el': 'greek',\n",
    "    'gu': 'gujarati',\n",
    "    'ht': 'haitian creole',\n",
    "    'ha': 'hausa',\n",
    "    'haw': 'hawaiian',\n",
    "    'iw': 'hebrew',\n",
    "    'hi': 'hindi',\n",
    "    'hmn': 'hmong',\n",
    "    'hu': 'hungarian',\n",
    "    'is': 'icelandic',\n",
    "    'ig': 'igbo',\n",
    "    'id': 'indonesian',\n",
    "    'ga': 'irish',\n",
    "    'it': 'italian',\n",
    "    'ja': 'japanese',\n",
    "    'jw': 'javanese',\n",
    "    'kn': 'kannada',\n",
    "    'kk': 'kazakh',\n",
    "    'km': 'khmer',\n",
    "    'ko': 'korean',\n",
    "    'ku': 'kurdish (kurmanji)',\n",
    "    'ky': 'kyrgyz',\n",
    "    'lo': 'lao',\n",
    "    'la': 'latin',\n",
    "    'lv': 'latvian',\n",
    "    'lt': 'lithuanian',\n",
    "    'lb': 'luxembourgish',\n",
    "    'mk': 'macedonian',\n",
    "    'mg': 'malagasy',\n",
    "    'ms': 'malay',\n",
    "    'ml': 'malayalam',\n",
    "    'mt': 'maltese',\n",
    "    'mi': 'maori',\n",
    "    'mr': 'marathi',\n",
    "    'mn': 'mongolian',\n",
    "    'my': 'myanmar (burmese)',\n",
    "    'ne': 'nepali',\n",
    "    'no': 'norwegian',\n",
    "    'ps': 'pashto',\n",
    "    'fa': 'persian',\n",
    "    'pl': 'polish',\n",
    "    'pt': 'portuguese',\n",
    "    'pa': 'punjabi',\n",
    "    'ro': 'romanian',\n",
    "    'ru': 'russian',\n",
    "    'sm': 'samoan',\n",
    "    'gd': 'scots gaelic',\n",
    "    'sr': 'serbian',\n",
    "    'st': 'sesotho',\n",
    "    'sn': 'shona',\n",
    "    'sd': 'sindhi',\n",
    "    'si': 'sinhala',\n",
    "    'sk': 'slovak',\n",
    "    'sl': 'slovenian',\n",
    "    'so': 'somali',\n",
    "    'es': 'spanish',\n",
    "    'su': 'sundanese',\n",
    "    'sw': 'swahili',\n",
    "    'sv': 'swedish',\n",
    "    'tg': 'tajik',\n",
    "    'ta': 'tamil',\n",
    "    'te': 'telugu',\n",
    "    'th': 'thai',\n",
    "    'tr': 'turkish',\n",
    "    'uk': 'ukrainian',\n",
    "    'ur': 'urdu',\n",
    "    'uz': 'uzbek',\n",
    "    'vi': 'vietnamese',\n",
    "    'cy': 'welsh',\n",
    "    'xh': 'xhosa',\n",
    "    'yi': 'yiddish',\n",
    "    'yo': 'yoruba',\n",
    "    'zu': 'zulu',\n",
    "    'fil': 'Filipino',\n",
    "    'he': 'Hebrew'\n",
    "}\n",
    "LANGCODES = dict(map(reversed, LANGUAGES.items()))   #讓dict倒轉"
   ]
  },
  {
   "cell_type": "code",
   "execution_count": 4,
   "metadata": {},
   "outputs": [
    {
     "name": "stdout",
     "output_type": "stream",
     "text": [
      "輸入單字或句子:man\n"
     ]
    },
    {
     "data": {
      "application/vnd.jupyter.widget-view+json": {
       "model_id": "9bf1df8e26cb4803998f18774009d386",
       "version_major": 2,
       "version_minor": 0
      },
      "text/plain": [
       "interactive(children=(Dropdown(description='語言', options={'afrikaans': 'af', 'albanian': 'sq', 'amharic': 'am'…"
      ]
     },
     "metadata": {},
     "output_type": "display_data"
    },
    {
     "data": {
      "text/plain": [
       "<function __main__.translate(語言)>"
      ]
     },
     "execution_count": 4,
     "metadata": {},
     "output_type": "execute_result"
    }
   ],
   "source": [
    "text=input('輸入單字或句子:')\n",
    "def translate(語言):\n",
    "    translator=Translator()\n",
    "    translation = translator.translate(text, dest=語言)\n",
    "    print(translation.text)         \n",
    "interact_manual(translate,語言=LANGCODES)"
   ]
  },
  {
   "cell_type": "markdown",
   "metadata": {},
   "source": [
    "## 可以輸入各種語言，然後輸出自己選擇。\n"
   ]
  },
  {
   "cell_type": "code",
   "execution_count": null,
   "metadata": {},
   "outputs": [],
   "source": []
  },
  {
   "cell_type": "code",
   "execution_count": null,
   "metadata": {},
   "outputs": [],
   "source": []
  },
  {
   "cell_type": "code",
   "execution_count": null,
   "metadata": {},
   "outputs": [],
   "source": []
  }
 ],
 "metadata": {
  "kernelspec": {
   "display_name": "Python 3",
   "language": "python",
   "name": "python3"
  },
  "language_info": {
   "codemirror_mode": {
    "name": "ipython",
    "version": 3
   },
   "file_extension": ".py",
   "mimetype": "text/x-python",
   "name": "python",
   "nbconvert_exporter": "python",
   "pygments_lexer": "ipython3",
   "version": "3.7.3"
  }
 },
 "nbformat": 4,
 "nbformat_minor": 2
}
