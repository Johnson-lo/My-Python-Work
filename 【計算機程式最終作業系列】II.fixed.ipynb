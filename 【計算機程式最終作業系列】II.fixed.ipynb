{
  "nbformat": 4,
  "nbformat_minor": 0,
  "metadata": {
    "colab": {
      "name": "VGG16.ipynb",
      "provenance": [],
      "collapsed_sections": []
    },
    "kernelspec": {
      "name": "python3",
      "display_name": "Python 3"
    },
    "accelerator": "GPU"
  },
  "cells": [
    {
      "cell_type": "code",
      "metadata": {
        "id": "8On9kwn3dnOH",
        "colab_type": "code",
        "colab": {}
      },
      "source": [
        "# using VGG16"
      ],
      "execution_count": 0,
      "outputs": []
    },
    {
      "cell_type": "code",
      "metadata": {
        "id": "jLaIXEvkTlJk",
        "colab_type": "code",
        "outputId": "c827df8d-b174-484c-d4c4-38ed969cce25",
        "colab": {
          "base_uri": "https://localhost:8080/",
          "height": 100
        }
      },
      "source": [
        "%tensorflow_version 2x"
      ],
      "execution_count": 0,
      "outputs": [
        {
          "output_type": "stream",
          "text": [
            "`%tensorflow_version` only switches the major version: 1.x or 2.x.\n",
            "You set: `2x`. This will be interpreted as: `2.x`.\n",
            "\n",
            "\n",
            "TensorFlow 2.x selected.\n"
          ],
          "name": "stdout"
        }
      ]
    },
    {
      "cell_type": "code",
      "metadata": {
        "id": "JQpnh3ZCTmae",
        "colab_type": "code",
        "colab": {}
      },
      "source": [
        "import matplotlib.pyplot as plt\n",
        "import numpy as np\n",
        "from tensorflow.keras import datasets\n",
        "from tensorflow.keras.utils import to_categorical"
      ],
      "execution_count": 0,
      "outputs": []
    },
    {
      "cell_type": "code",
      "metadata": {
        "id": "4ZYx7fniTq0e",
        "colab_type": "code",
        "colab": {}
      },
      "source": [
        "from tensorflow.keras.applications.vgg16 import VGG16\n",
        "from tensorflow.keras.models import Sequential\n",
        "from tensorflow.keras.layers import Dense\n",
        "from tensorflow.keras.layers import Conv2D, MaxPool2D, GlobalAveragePooling2D\n",
        "from tensorflow.keras.optimizers import SGD, Adam\n",
        "from tensorflow.keras.layers import Dropout, BatchNormalization"
      ],
      "execution_count": 0,
      "outputs": []
    },
    {
      "cell_type": "code",
      "metadata": {
        "id": "dFSCDp8pTvEP",
        "colab_type": "code",
        "colab": {}
      },
      "source": [
        "name_list = ['airplane', 'automobile', 'bird', 'cat', 'deer', 'dog', 'frog', 'horse', 'ship', 'truck']"
      ],
      "execution_count": 0,
      "outputs": []
    },
    {
      "cell_type": "code",
      "metadata": {
        "id": "jcpuC7L7TyiL",
        "colab_type": "code",
        "colab": {}
      },
      "source": [
        "(X_train, Y_train), (X_test, Y_test) = datasets.cifar10.load_data()\n",
        "X_train = X_train / X_train.max()\n",
        "X_test = X_test / X_test.max()"
      ],
      "execution_count": 0,
      "outputs": []
    },
    {
      "cell_type": "code",
      "metadata": {
        "id": "utQXLSessu8J",
        "colab_type": "code",
        "outputId": "d7bee0e7-2223-4d34-91bf-0ac766b8441b",
        "colab": {
          "base_uri": "https://localhost:8080/",
          "height": 33
        }
      },
      "source": [
        "X_train[50].shape"
      ],
      "execution_count": 0,
      "outputs": [
        {
          "output_type": "execute_result",
          "data": {
            "text/plain": [
              "(32, 32, 3)"
            ]
          },
          "metadata": {
            "tags": []
          },
          "execution_count": 7
        }
      ]
    },
    {
      "cell_type": "code",
      "metadata": {
        "id": "8N2-R1_Us9Z4",
        "colab_type": "code",
        "outputId": "316234f1-aec5-42d3-fa02-9ac9a94fb758",
        "colab": {
          "base_uri": "https://localhost:8080/",
          "height": 33
        }
      },
      "source": [
        "Y_train[50].squeeze()"
      ],
      "execution_count": 0,
      "outputs": [
        {
          "output_type": "execute_result",
          "data": {
            "text/plain": [
              "array(9, dtype=uint8)"
            ]
          },
          "metadata": {
            "tags": []
          },
          "execution_count": 8
        }
      ]
    },
    {
      "cell_type": "code",
      "metadata": {
        "id": "ZFB4RgEsuT4W",
        "colab_type": "code",
        "colab": {}
      },
      "source": [
        "Y_train = to_categorical(Y_train, 10)\n",
        "Y_test = to_categorical(Y_test, 10)"
      ],
      "execution_count": 0,
      "outputs": []
    },
    {
      "cell_type": "code",
      "metadata": {
        "id": "6n1d6s7HVufk",
        "colab_type": "code",
        "colab": {}
      },
      "source": [
        "VGG_model = VGG16(include_top=False, input_shape=(32, 32, 3))"
      ],
      "execution_count": 0,
      "outputs": []
    },
    {
      "cell_type": "code",
      "metadata": {
        "id": "kGuFwV5Tuhqz",
        "colab_type": "code",
        "outputId": "d2e62745-ef4e-4bb8-9a55-2c2d8c59f28d",
        "colab": {
          "base_uri": "https://localhost:8080/",
          "height": 333
        }
      },
      "source": [
        "VGG_model.layers"
      ],
      "execution_count": 0,
      "outputs": [
        {
          "output_type": "execute_result",
          "data": {
            "text/plain": [
              "[<tensorflow.python.keras.engine.input_layer.InputLayer at 0x7f7440990c50>,\n",
              " <tensorflow.python.keras.layers.convolutional.Conv2D at 0x7f7440944588>,\n",
              " <tensorflow.python.keras.layers.convolutional.Conv2D at 0x7f7440944f28>,\n",
              " <tensorflow.python.keras.layers.pooling.MaxPooling2D at 0x7f7440100208>,\n",
              " <tensorflow.python.keras.layers.convolutional.Conv2D at 0x7f749ebb7390>,\n",
              " <tensorflow.python.keras.layers.convolutional.Conv2D at 0x7f74300a3ef0>,\n",
              " <tensorflow.python.keras.layers.pooling.MaxPooling2D at 0x7f74300a9898>,\n",
              " <tensorflow.python.keras.layers.convolutional.Conv2D at 0x7f74300af198>,\n",
              " <tensorflow.python.keras.layers.convolutional.Conv2D at 0x7f74300b94e0>,\n",
              " <tensorflow.python.keras.layers.convolutional.Conv2D at 0x7f74300c16a0>,\n",
              " <tensorflow.python.keras.layers.pooling.MaxPooling2D at 0x7f74300c65c0>,\n",
              " <tensorflow.python.keras.layers.convolutional.Conv2D at 0x7f74300c6438>,\n",
              " <tensorflow.python.keras.layers.convolutional.Conv2D at 0x7f74300d1780>,\n",
              " <tensorflow.python.keras.layers.convolutional.Conv2D at 0x7f74300d6940>,\n",
              " <tensorflow.python.keras.layers.pooling.MaxPooling2D at 0x7f743005e860>,\n",
              " <tensorflow.python.keras.layers.convolutional.Conv2D at 0x7f743005e6d8>,\n",
              " <tensorflow.python.keras.layers.convolutional.Conv2D at 0x7f7430065a20>,\n",
              " <tensorflow.python.keras.layers.convolutional.Conv2D at 0x7f743006b898>,\n",
              " <tensorflow.python.keras.layers.pooling.MaxPooling2D at 0x7f7430074b00>]"
            ]
          },
          "metadata": {
            "tags": []
          },
          "execution_count": 11
        }
      ]
    },
    {
      "cell_type": "code",
      "metadata": {
        "id": "2XUlKUD0V9jV",
        "colab_type": "code",
        "outputId": "bb31d0b2-15af-416c-8dd6-049176cd6efe",
        "colab": {
          "base_uri": "https://localhost:8080/",
          "height": 33
        }
      },
      "source": [
        "VGG_model.layers.pop(-1)"
      ],
      "execution_count": 0,
      "outputs": [
        {
          "output_type": "execute_result",
          "data": {
            "text/plain": [
              "<tensorflow.python.keras.layers.pooling.MaxPooling2D at 0x7f7430074b00>"
            ]
          },
          "metadata": {
            "tags": []
          },
          "execution_count": 12
        }
      ]
    },
    {
      "cell_type": "code",
      "metadata": {
        "id": "w0kNSGWdWTVc",
        "colab_type": "code",
        "colab": {}
      },
      "source": [
        "GlobalAverage = [GlobalAveragePooling2D()]\n",
        "\n",
        "FC_layers = [Dense(units=100, activation='relu'),\n",
        "             Dense(units=100, activation='relu'),\n",
        "             BatchNormalization(),\n",
        "             Dense(units=10, activation='softmax')]"
      ],
      "execution_count": 0,
      "outputs": []
    },
    {
      "cell_type": "code",
      "metadata": {
        "id": "98vZEcLIWxRH",
        "colab_type": "code",
        "colab": {}
      },
      "source": [
        "for layers in VGG_model.layers:\n",
        "  layers.trainable = False"
      ],
      "execution_count": 0,
      "outputs": []
    },
    {
      "cell_type": "code",
      "metadata": {
        "id": "xPM7imhlW1H5",
        "colab_type": "code",
        "colab": {}
      },
      "source": [
        "my_model = Sequential(VGG_model.layers + GlobalAverage + FC_layers)"
      ],
      "execution_count": 0,
      "outputs": []
    },
    {
      "cell_type": "code",
      "metadata": {
        "id": "RuQ2zx2yX4gQ",
        "colab_type": "code",
        "outputId": "449f8c33-6920-4dca-e8c1-2576c538c157",
        "colab": {
          "base_uri": "https://localhost:8080/",
          "height": 917
        }
      },
      "source": [
        "my_model.summary()"
      ],
      "execution_count": 0,
      "outputs": [
        {
          "output_type": "stream",
          "text": [
            "Model: \"sequential\"\n",
            "_________________________________________________________________\n",
            "Layer (type)                 Output Shape              Param #   \n",
            "=================================================================\n",
            "block1_conv1 (Conv2D)        (None, 32, 32, 64)        1792      \n",
            "_________________________________________________________________\n",
            "block1_conv2 (Conv2D)        (None, 32, 32, 64)        36928     \n",
            "_________________________________________________________________\n",
            "block1_pool (MaxPooling2D)   (None, 16, 16, 64)        0         \n",
            "_________________________________________________________________\n",
            "block2_conv1 (Conv2D)        (None, 16, 16, 128)       73856     \n",
            "_________________________________________________________________\n",
            "block2_conv2 (Conv2D)        (None, 16, 16, 128)       147584    \n",
            "_________________________________________________________________\n",
            "block2_pool (MaxPooling2D)   (None, 8, 8, 128)         0         \n",
            "_________________________________________________________________\n",
            "block3_conv1 (Conv2D)        (None, 8, 8, 256)         295168    \n",
            "_________________________________________________________________\n",
            "block3_conv2 (Conv2D)        (None, 8, 8, 256)         590080    \n",
            "_________________________________________________________________\n",
            "block3_conv3 (Conv2D)        (None, 8, 8, 256)         590080    \n",
            "_________________________________________________________________\n",
            "block3_pool (MaxPooling2D)   (None, 4, 4, 256)         0         \n",
            "_________________________________________________________________\n",
            "block4_conv1 (Conv2D)        (None, 4, 4, 512)         1180160   \n",
            "_________________________________________________________________\n",
            "block4_conv2 (Conv2D)        (None, 4, 4, 512)         2359808   \n",
            "_________________________________________________________________\n",
            "block4_conv3 (Conv2D)        (None, 4, 4, 512)         2359808   \n",
            "_________________________________________________________________\n",
            "block4_pool (MaxPooling2D)   (None, 2, 2, 512)         0         \n",
            "_________________________________________________________________\n",
            "block5_conv1 (Conv2D)        (None, 2, 2, 512)         2359808   \n",
            "_________________________________________________________________\n",
            "block5_conv2 (Conv2D)        (None, 2, 2, 512)         2359808   \n",
            "_________________________________________________________________\n",
            "block5_conv3 (Conv2D)        (None, 2, 2, 512)         2359808   \n",
            "_________________________________________________________________\n",
            "block5_pool (MaxPooling2D)   (None, 1, 1, 512)         0         \n",
            "_________________________________________________________________\n",
            "global_average_pooling2d (Gl (None, 512)               0         \n",
            "_________________________________________________________________\n",
            "dense (Dense)                (None, 100)               51300     \n",
            "_________________________________________________________________\n",
            "dense_1 (Dense)              (None, 100)               10100     \n",
            "_________________________________________________________________\n",
            "batch_normalization (BatchNo (None, 100)               400       \n",
            "_________________________________________________________________\n",
            "dense_2 (Dense)              (None, 10)                1010      \n",
            "=================================================================\n",
            "Total params: 14,777,498\n",
            "Trainable params: 62,610\n",
            "Non-trainable params: 14,714,888\n",
            "_________________________________________________________________\n"
          ],
          "name": "stdout"
        }
      ]
    },
    {
      "cell_type": "code",
      "metadata": {
        "id": "upit_yqfYPm2",
        "colab_type": "code",
        "colab": {}
      },
      "source": [
        "my_model.compile(loss='categorical_crossentropy', optimizer=Adam(),metrics=['categorical_accuracy'])"
      ],
      "execution_count": 0,
      "outputs": []
    },
    {
      "cell_type": "code",
      "metadata": {
        "id": "R-nlW8o9vI8S",
        "colab_type": "code",
        "outputId": "01edc9c5-14fe-475d-f6ea-87f600480ec1",
        "colab": {
          "base_uri": "https://localhost:8080/",
          "height": 587
        }
      },
      "source": [
        "my_model.fit( X_train, Y_train, batch_size=256, epochs=16, validation_data=(X_test, Y_test) )"
      ],
      "execution_count": 0,
      "outputs": [
        {
          "output_type": "stream",
          "text": [
            "Epoch 1/16\n",
            "196/196 [==============================] - 10s 51ms/step - loss: 1.4577 - categorical_accuracy: 0.4964 - val_loss: 1.4390 - val_categorical_accuracy: 0.5217\n",
            "Epoch 2/16\n",
            "196/196 [==============================] - 9s 48ms/step - loss: 1.2032 - categorical_accuracy: 0.5819 - val_loss: 1.2596 - val_categorical_accuracy: 0.5564\n",
            "Epoch 3/16\n",
            "196/196 [==============================] - 9s 48ms/step - loss: 1.1399 - categorical_accuracy: 0.6038 - val_loss: 1.2038 - val_categorical_accuracy: 0.5740\n",
            "Epoch 4/16\n",
            "196/196 [==============================] - 9s 48ms/step - loss: 1.1016 - categorical_accuracy: 0.6165 - val_loss: 1.1747 - val_categorical_accuracy: 0.5911\n",
            "Epoch 5/16\n",
            "196/196 [==============================] - 9s 48ms/step - loss: 1.0719 - categorical_accuracy: 0.6273 - val_loss: 1.2136 - val_categorical_accuracy: 0.5772\n",
            "Epoch 6/16\n",
            "196/196 [==============================] - 9s 48ms/step - loss: 1.0468 - categorical_accuracy: 0.6346 - val_loss: 1.1744 - val_categorical_accuracy: 0.5920\n",
            "Epoch 7/16\n",
            "196/196 [==============================] - 9s 48ms/step - loss: 1.0254 - categorical_accuracy: 0.6420 - val_loss: 1.1716 - val_categorical_accuracy: 0.5958\n",
            "Epoch 8/16\n",
            "196/196 [==============================] - 10s 49ms/step - loss: 1.0030 - categorical_accuracy: 0.6506 - val_loss: 1.1879 - val_categorical_accuracy: 0.5851\n",
            "Epoch 9/16\n",
            "196/196 [==============================] - 10s 49ms/step - loss: 0.9829 - categorical_accuracy: 0.6567 - val_loss: 1.1881 - val_categorical_accuracy: 0.5903\n",
            "Epoch 10/16\n",
            "196/196 [==============================] - 10s 49ms/step - loss: 0.9659 - categorical_accuracy: 0.6612 - val_loss: 1.1796 - val_categorical_accuracy: 0.5976\n",
            "Epoch 11/16\n",
            "196/196 [==============================] - 10s 49ms/step - loss: 0.9496 - categorical_accuracy: 0.6678 - val_loss: 1.1749 - val_categorical_accuracy: 0.5955\n",
            "Epoch 12/16\n",
            "196/196 [==============================] - 9s 48ms/step - loss: 0.9328 - categorical_accuracy: 0.6736 - val_loss: 1.1599 - val_categorical_accuracy: 0.6101\n",
            "Epoch 13/16\n",
            "196/196 [==============================] - 9s 48ms/step - loss: 0.9150 - categorical_accuracy: 0.6792 - val_loss: 1.2027 - val_categorical_accuracy: 0.5923\n",
            "Epoch 14/16\n",
            "196/196 [==============================] - 9s 48ms/step - loss: 0.9047 - categorical_accuracy: 0.6827 - val_loss: 1.1920 - val_categorical_accuracy: 0.6006\n",
            "Epoch 15/16\n",
            "196/196 [==============================] - 10s 49ms/step - loss: 0.8872 - categorical_accuracy: 0.6891 - val_loss: 1.1572 - val_categorical_accuracy: 0.6073\n",
            "Epoch 16/16\n",
            "196/196 [==============================] - 10s 49ms/step - loss: 0.8734 - categorical_accuracy: 0.6948 - val_loss: 1.2177 - val_categorical_accuracy: 0.6004\n"
          ],
          "name": "stdout"
        },
        {
          "output_type": "execute_result",
          "data": {
            "text/plain": [
              "<tensorflow.python.keras.callbacks.History at 0x7f73e45b47b8>"
            ]
          },
          "metadata": {
            "tags": []
          },
          "execution_count": 18
        }
      ]
    },
    {
      "cell_type": "code",
      "metadata": {
        "id": "ujlS4O7CvMFA",
        "colab_type": "code",
        "colab": {}
      },
      "source": [
        "for layers in VGG_model.layers:\n",
        "  layers.trainable = True"
      ],
      "execution_count": 0,
      "outputs": []
    },
    {
      "cell_type": "code",
      "metadata": {
        "id": "yEzT9v_rvQJ-",
        "colab_type": "code",
        "colab": {}
      },
      "source": [
        "my_model_tune = Sequential(VGG_model.layers + GlobalAverage + FC_layers)"
      ],
      "execution_count": 0,
      "outputs": []
    },
    {
      "cell_type": "code",
      "metadata": {
        "id": "KBHH2x9uvSaE",
        "colab_type": "code",
        "outputId": "53bc56e5-10c6-413e-927d-f61923b9090c",
        "colab": {
          "base_uri": "https://localhost:8080/",
          "height": 917
        }
      },
      "source": [
        "my_model_tune.summary()"
      ],
      "execution_count": 0,
      "outputs": [
        {
          "output_type": "stream",
          "text": [
            "Model: \"sequential_1\"\n",
            "_________________________________________________________________\n",
            "Layer (type)                 Output Shape              Param #   \n",
            "=================================================================\n",
            "block1_conv1 (Conv2D)        (None, 32, 32, 64)        1792      \n",
            "_________________________________________________________________\n",
            "block1_conv2 (Conv2D)        (None, 32, 32, 64)        36928     \n",
            "_________________________________________________________________\n",
            "block1_pool (MaxPooling2D)   (None, 16, 16, 64)        0         \n",
            "_________________________________________________________________\n",
            "block2_conv1 (Conv2D)        (None, 16, 16, 128)       73856     \n",
            "_________________________________________________________________\n",
            "block2_conv2 (Conv2D)        (None, 16, 16, 128)       147584    \n",
            "_________________________________________________________________\n",
            "block2_pool (MaxPooling2D)   (None, 8, 8, 128)         0         \n",
            "_________________________________________________________________\n",
            "block3_conv1 (Conv2D)        (None, 8, 8, 256)         295168    \n",
            "_________________________________________________________________\n",
            "block3_conv2 (Conv2D)        (None, 8, 8, 256)         590080    \n",
            "_________________________________________________________________\n",
            "block3_conv3 (Conv2D)        (None, 8, 8, 256)         590080    \n",
            "_________________________________________________________________\n",
            "block3_pool (MaxPooling2D)   (None, 4, 4, 256)         0         \n",
            "_________________________________________________________________\n",
            "block4_conv1 (Conv2D)        (None, 4, 4, 512)         1180160   \n",
            "_________________________________________________________________\n",
            "block4_conv2 (Conv2D)        (None, 4, 4, 512)         2359808   \n",
            "_________________________________________________________________\n",
            "block4_conv3 (Conv2D)        (None, 4, 4, 512)         2359808   \n",
            "_________________________________________________________________\n",
            "block4_pool (MaxPooling2D)   (None, 2, 2, 512)         0         \n",
            "_________________________________________________________________\n",
            "block5_conv1 (Conv2D)        (None, 2, 2, 512)         2359808   \n",
            "_________________________________________________________________\n",
            "block5_conv2 (Conv2D)        (None, 2, 2, 512)         2359808   \n",
            "_________________________________________________________________\n",
            "block5_conv3 (Conv2D)        (None, 2, 2, 512)         2359808   \n",
            "_________________________________________________________________\n",
            "block5_pool (MaxPooling2D)   (None, 1, 1, 512)         0         \n",
            "_________________________________________________________________\n",
            "global_average_pooling2d (Gl (None, 512)               0         \n",
            "_________________________________________________________________\n",
            "dense (Dense)                (None, 100)               51300     \n",
            "_________________________________________________________________\n",
            "dense_1 (Dense)              (None, 100)               10100     \n",
            "_________________________________________________________________\n",
            "batch_normalization (BatchNo (None, 100)               400       \n",
            "_________________________________________________________________\n",
            "dense_2 (Dense)              (None, 10)                1010      \n",
            "=================================================================\n",
            "Total params: 14,777,498\n",
            "Trainable params: 14,777,298\n",
            "Non-trainable params: 200\n",
            "_________________________________________________________________\n"
          ],
          "name": "stdout"
        }
      ]
    },
    {
      "cell_type": "code",
      "metadata": {
        "id": "oR5-RZwavU0g",
        "colab_type": "code",
        "colab": {}
      },
      "source": [
        "my_model_tune.compile(loss='categorical_crossentropy', optimizer=Adam(),metrics=['categorical_accuracy'])"
      ],
      "execution_count": 0,
      "outputs": []
    },
    {
      "cell_type": "code",
      "metadata": {
        "id": "nLljIH3uvYb3",
        "colab_type": "code",
        "outputId": "43ccbbf5-9d13-4477-b70d-0d66b2367140",
        "colab": {
          "base_uri": "https://localhost:8080/",
          "height": 587
        }
      },
      "source": [
        "my_model_tune.fit( X_train, Y_train, batch_size=256, epochs=16, validation_data=(X_test, Y_test) )"
      ],
      "execution_count": 0,
      "outputs": [
        {
          "output_type": "stream",
          "text": [
            "Epoch 1/16\n",
            "196/196 [==============================] - 26s 131ms/step - loss: 1.8129 - categorical_accuracy: 0.2749 - val_loss: 247.4612 - val_categorical_accuracy: 0.1069\n",
            "Epoch 2/16\n",
            "196/196 [==============================] - 25s 127ms/step - loss: 1.4364 - categorical_accuracy: 0.4196 - val_loss: 1.7668 - val_categorical_accuracy: 0.3217\n",
            "Epoch 3/16\n",
            "196/196 [==============================] - 25s 128ms/step - loss: 1.2389 - categorical_accuracy: 0.5212 - val_loss: 1.3975 - val_categorical_accuracy: 0.4279\n",
            "Epoch 4/16\n",
            "196/196 [==============================] - 25s 128ms/step - loss: 1.0494 - categorical_accuracy: 0.6086 - val_loss: 2.1986 - val_categorical_accuracy: 0.4552\n",
            "Epoch 5/16\n",
            "196/196 [==============================] - 25s 127ms/step - loss: 0.8091 - categorical_accuracy: 0.7059 - val_loss: 1.2564 - val_categorical_accuracy: 0.5754\n",
            "Epoch 6/16\n",
            "196/196 [==============================] - 25s 127ms/step - loss: 0.6497 - categorical_accuracy: 0.7689 - val_loss: 0.8072 - val_categorical_accuracy: 0.7344\n",
            "Epoch 7/16\n",
            "196/196 [==============================] - 25s 127ms/step - loss: 0.5244 - categorical_accuracy: 0.8167 - val_loss: 0.7588 - val_categorical_accuracy: 0.7447\n",
            "Epoch 8/16\n",
            "196/196 [==============================] - 25s 127ms/step - loss: 0.4189 - categorical_accuracy: 0.8536 - val_loss: 0.7886 - val_categorical_accuracy: 0.7595\n",
            "Epoch 9/16\n",
            "196/196 [==============================] - 25s 127ms/step - loss: 0.3440 - categorical_accuracy: 0.8816 - val_loss: 0.7222 - val_categorical_accuracy: 0.7844\n",
            "Epoch 10/16\n",
            "196/196 [==============================] - 25s 127ms/step - loss: 0.2611 - categorical_accuracy: 0.9116 - val_loss: 0.7667 - val_categorical_accuracy: 0.7834\n",
            "Epoch 11/16\n",
            "196/196 [==============================] - 25s 127ms/step - loss: 0.2049 - categorical_accuracy: 0.9300 - val_loss: 0.7920 - val_categorical_accuracy: 0.7954\n",
            "Epoch 12/16\n",
            "196/196 [==============================] - 25s 127ms/step - loss: 0.1722 - categorical_accuracy: 0.9416 - val_loss: 0.8776 - val_categorical_accuracy: 0.7905\n",
            "Epoch 13/16\n",
            "196/196 [==============================] - 25s 127ms/step - loss: 0.1246 - categorical_accuracy: 0.9583 - val_loss: 0.8942 - val_categorical_accuracy: 0.8020\n",
            "Epoch 14/16\n",
            "196/196 [==============================] - 25s 127ms/step - loss: 0.1032 - categorical_accuracy: 0.9662 - val_loss: 1.0219 - val_categorical_accuracy: 0.7872\n",
            "Epoch 15/16\n",
            "196/196 [==============================] - 25s 127ms/step - loss: 0.0915 - categorical_accuracy: 0.9702 - val_loss: 2.3884 - val_categorical_accuracy: 0.8057\n",
            "Epoch 16/16\n",
            "196/196 [==============================] - 25s 127ms/step - loss: 0.0799 - categorical_accuracy: 0.9738 - val_loss: 1.1049 - val_categorical_accuracy: 0.7765\n"
          ],
          "name": "stdout"
        },
        {
          "output_type": "execute_result",
          "data": {
            "text/plain": [
              "<tensorflow.python.keras.callbacks.History at 0x7f73e4126390>"
            ]
          },
          "metadata": {
            "tags": []
          },
          "execution_count": 23
        }
      ]
    },
    {
      "cell_type": "code",
      "metadata": {
        "id": "8gQZuSd5vbYh",
        "colab_type": "code",
        "colab": {}
      },
      "source": [
        ""
      ],
      "execution_count": 0,
      "outputs": []
    }
  ]
}