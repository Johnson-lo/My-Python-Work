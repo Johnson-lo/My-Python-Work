{
 "cells": [
  {
   "cell_type": "code",
   "execution_count": 1,
   "metadata": {},
   "outputs": [
    {
     "name": "stdout",
     "output_type": "stream",
     "text": [
      "Populating the interactive namespace from numpy and matplotlib\n"
     ]
    }
   ],
   "source": [
    "%pylab inline"
   ]
  },
  {
   "cell_type": "code",
   "execution_count": null,
   "metadata": {},
   "outputs": [
    {
     "name": "stdout",
     "output_type": "stream",
     "text": [
      "歡迎收看22台cartoon channel\n",
      ">>讓我們歡迎菲哥\n",
      "菲哥:ㄟ!泰瑞呢!?\n",
      ">>接下來是伊莎貝拉\n",
      "伊莎貝拉:菲哥，你們在做甚麼\n",
      ">>再來是泰瑞的隊長\n",
      "隊長:恩...好，特務P。杜分舒斯博士正在博士正在買生化武器還有演講錄影帶。\n",
      ">>最後是凱蒂斯\n",
      "凱蒂斯:媽!妳一定要看菲哥與小佛做的好事!\n"
     ]
    }
   ],
   "source": [
    "r='rr'\n",
    "print('歡迎收看22台cartoon channel')\n",
    "while r !='':\n",
    "    r=input(\">>\")\n",
    "    if'我們歡迎菲哥'in r:\n",
    "        print('菲哥:ㄟ!泰瑞呢!?')\n",
    "    elif'接下來是伊莎貝拉'in r:\n",
    "        print('伊莎貝拉:菲哥，你們在做甚麼')\n",
    "    elif'再來是泰瑞的隊長'in r:\n",
    "        print('隊長:恩...好，特務P。杜分舒斯博士正在博士正在買生化武器還有演講錄影帶。')\n",
    "    else:\n",
    "        print('凱蒂斯:媽!妳一定要看菲哥與小佛做的好事!')\n"
   ]
  },
  {
   "cell_type": "code",
   "execution_count": null,
   "metadata": {},
   "outputs": [],
   "source": []
  }
 ],
 "metadata": {
  "kernelspec": {
   "display_name": "Python 3",
   "language": "python",
   "name": "python3"
  },
  "language_info": {
   "codemirror_mode": {
    "name": "ipython",
    "version": 3
   },
   "file_extension": ".py",
   "mimetype": "text/x-python",
   "name": "python",
   "nbconvert_exporter": "python",
   "pygments_lexer": "ipython3",
   "version": "3.7.3"
  }
 },
 "nbformat": 4,
 "nbformat_minor": 2
}
