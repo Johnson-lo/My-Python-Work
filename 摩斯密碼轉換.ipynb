{
 "cells": [
  {
   "cell_type": "code",
   "execution_count": 1,
   "metadata": {},
   "outputs": [],
   "source": [
    "%matplotlib inline\n",
    "import numpy as np\n",
    "import matplotlib.pyplot as plt\n",
    "import pandas as pd"
   ]
  },
  {
   "cell_type": "code",
   "execution_count": null,
   "metadata": {
    "scrolled": true
   },
   "outputs": [
    {
     "name": "stdout",
     "output_type": "stream",
     "text": [
      "\n",
      "請輸入您想轉換的英文或數字,輸入0結束轉換:  play1\n",
      "轉換後的摩斯密碼為\n",
      "‧──‧ ‧─‧‧ ‧─ ─‧── ‧──── \n",
      "請輸入您想轉換的英文或數字,輸入0結束轉換:  108701007\n",
      "轉換後的摩斯密碼為\n",
      "‧──── ──‧‧ ───‧‧ ──‧‧‧ ──‧‧ ‧──── ──‧‧ ──‧‧ ──‧‧‧ \n",
      "請輸入您想轉換的英文或數字,輸入0結束轉換:  bangbangbang\n",
      "轉換後的摩斯密碼為\n",
      "─‧‧‧ ‧─ ─‧ ──‧ ─‧‧‧ ‧─ ─‧ ──‧ ─‧‧‧ ‧─ ─‧ ──‧ \n"
     ]
    }
   ],
   "source": [
    "a=\"123456789ABCDEFGHIJKLMNOPQRSTUVWXYZ\"\n",
    "b=[\"‧────\",\"‧‧───\",\"‧‧‧──\",\"‧‧‧‧─\",\"‧‧‧‧‧\",\"─‧‧‧‧\",\"──‧‧‧\",\"───‧‧\",\"────‧\",\"‧─\",\"─‧‧‧\",\"─‧─‧\",\"─‧‧\",\"‧\",\"‧‧─‧\",\"──‧\",\"‧‧‧‧\",\"‧‧\",\"‧───\",\"─‧─\",\"‧─‧‧\",\"──\",\"─‧\",\"───\",\"‧──‧\",\"──‧─\",\"‧─‧\",\"‧‧‧\",\"─\",\"‧‧─\",\"‧‧‧─\",\"‧──\",\"─‧‧─\",\"─‧──\",\"──‧‧\"]\n",
    "while(True):\n",
    "    print(\"\") #防止上個迴圈的end連到這圈的字\n",
    "    c=input(\"請輸入您想轉換的英文或數字,輸入0結束轉換:  \")\n",
    "    capital=(c.upper()) #若使用英文字母則可以把所有字母轉換為大寫\n",
    "    if c ==\"0\":\n",
    "        print(\"掰掰。\")\n",
    "        break\n",
    "    else:\n",
    "        print(\"轉換後的摩斯密碼為\")\n",
    "        for d in capital:  #設置for迴圈讓capitl輸入的字元都跑過一遍\n",
    "            e=(a.find(d)) #運用find找出字母的在a字串位置\n",
    "            f=b[e] # f=b.list內的對應字串位置\n",
    "            print(f,end=\" \")# end 讓print出來的每個字母同一行(可以在中間加符號)"
   ]
  },
  {
   "cell_type": "code",
   "execution_count": null,
   "metadata": {},
   "outputs": [],
   "source": []
  }
 ],
 "metadata": {
  "kernelspec": {
   "display_name": "Python 3",
   "language": "python",
   "name": "python3"
  },
  "language_info": {
   "codemirror_mode": {
    "name": "ipython",
    "version": 3
   },
   "file_extension": ".py",
   "mimetype": "text/x-python",
   "name": "python",
   "nbconvert_exporter": "python",
   "pygments_lexer": "ipython3",
   "version": "3.7.3"
  }
 },
 "nbformat": 4,
 "nbformat_minor": 2
}
