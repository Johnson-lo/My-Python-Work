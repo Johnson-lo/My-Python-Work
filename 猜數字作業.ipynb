{
 "cells": [
  {
   "cell_type": "code",
   "execution_count": null,
   "metadata": {},
   "outputs": [
    {
     "name": "stdout",
     "output_type": "stream",
     "text": [
      "Populating the interactive namespace from numpy and matplotlib\n",
      "猜一個數字1\n",
      "猜錯了喔\n",
      "猜一個數字2\n",
      "猜錯了喔\n",
      "猜一個數字3\n",
      "猜錯了喔\n",
      "猜一個數字4\n",
      "猜錯了喔\n",
      "猜一個數字5\n",
      "恭喜你猜中了\n",
      "猜一個數字6\n",
      "恭喜你猜中了\n",
      "猜一個數字7\n",
      "猜錯了喔\n",
      "猜一個數字8\n",
      "猜錯了喔\n",
      "猜一個數字9\n",
      "猜錯了喔\n",
      "猜一個數字10\n",
      "猜錯了喔\n",
      "猜一個數字1\n",
      "猜錯了喔\n",
      "猜一個數字5\n",
      "猜錯了喔\n"
     ]
    }
   ],
   "source": [
    "%pylab inline\n",
    "c=\"\"\n",
    "while(c!=\"不猜了\"):\n",
    "    k=randint(1,10)\n",
    "    c=input(\"猜一個數字\")\n",
    "    c=int(c)\n",
    "    if k==c:\n",
    "        print(\"恭喜你猜中了\")\n",
    "    else:\n",
    "        print(\"猜錯了喔\")"
   ]
  },
  {
   "cell_type": "code",
   "execution_count": null,
   "metadata": {},
   "outputs": [],
   "source": []
  }
 ],
 "metadata": {
  "kernelspec": {
   "display_name": "Python 3",
   "language": "python",
   "name": "python3"
  },
  "language_info": {
   "codemirror_mode": {
    "name": "ipython",
    "version": 3
   },
   "file_extension": ".py",
   "mimetype": "text/x-python",
   "name": "python",
   "nbconvert_exporter": "python",
   "pygments_lexer": "ipython3",
   "version": "3.7.3"
  }
 },
 "nbformat": 4,
 "nbformat_minor": 2
}
