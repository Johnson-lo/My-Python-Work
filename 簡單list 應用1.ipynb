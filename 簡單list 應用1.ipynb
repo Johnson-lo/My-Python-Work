{
 "cells": [
  {
   "cell_type": "code",
   "execution_count": 1,
   "metadata": {},
   "outputs": [
    {
     "name": "stdout",
     "output_type": "stream",
     "text": [
      "John is 12 years old\n",
      "Bob is 19 years old\n",
      "Cindy is 18 years old\n"
     ]
    }
   ],
   "source": [
    "list_text=[\"John\",\"Bob\",\"Cindy\"]\n",
    "list_num=[\"12\",\"19\",\"18\"]\n",
    "for value in list_text:\n",
    "      i=list_text.index(value)\n",
    "      print(value+\" is \"+list_num[i]+\" years old\") \n"
   ]
  },
  {
   "cell_type": "code",
   "execution_count": null,
   "metadata": {},
   "outputs": [],
   "source": []
  }
 ],
 "metadata": {
  "kernelspec": {
   "display_name": "Python 3",
   "language": "python",
   "name": "python3"
  },
  "language_info": {
   "codemirror_mode": {
    "name": "ipython",
    "version": 3
   },
   "file_extension": ".py",
   "mimetype": "text/x-python",
   "name": "python",
   "nbconvert_exporter": "python",
   "pygments_lexer": "ipython3",
   "version": "3.7.3"
  }
 },
 "nbformat": 4,
 "nbformat_minor": 2
}
