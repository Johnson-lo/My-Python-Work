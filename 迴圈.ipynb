{
 "cells": [
  {
   "cell_type": "code",
   "execution_count": 1,
   "metadata": {},
   "outputs": [
    {
     "name": "stdout",
     "output_type": "stream",
     "text": [
      "Populating the interactive namespace from numpy and matplotlib\n"
     ]
    }
   ],
   "source": [
    "%pylab inline"
   ]
  },
  {
   "cell_type": "code",
   "execution_count": null,
   "metadata": {},
   "outputs": [],
   "source": [
    "print('歡迎收看22台cartoon channel')\n",
    "while r !='':\n",
    "    r=input(\">>\")\n",
    "    if'菲哥:'in r:\n",
    "        print('ㄟ!泰瑞呢!?')\n",
    "    elif'伊莎貝拉:'in r:\n",
    "        print('菲哥，你們在做甚麼')\n",
    "    elif'泰瑞:'in r:\n",
    "        print('恩...好，特務P。杜分舒斯博士正在博士正在買生化武器還有演講錄影帶。')\n",
    "    else'凱蒂斯:'in r:\n",
    "        print('媽!妳一定要看菲哥與小佛做的好事')"
   ]
  },
  {
   "cell_type": "code",
   "execution_count": null,
   "metadata": {},
   "outputs": [],
   "source": []
  }
 ],
 "metadata": {
  "kernelspec": {
   "display_name": "Python 3",
   "language": "python",
   "name": "python3"
  },
  "language_info": {
   "codemirror_mode": {
    "name": "ipython",
    "version": 3
   },
   "file_extension": ".py",
   "mimetype": "text/x-python",
   "name": "python",
   "nbconvert_exporter": "python",
   "pygments_lexer": "ipython3",
   "version": "3.7.3"
  }
 },
 "nbformat": 4,
 "nbformat_minor": 2
}
