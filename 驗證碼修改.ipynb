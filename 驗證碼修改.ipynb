{
 "cells": [
  {
   "cell_type": "code",
   "execution_count": 1,
   "metadata": {},
   "outputs": [],
   "source": [
    "%matplotlib inline\n",
    "import numpy as np \n",
    "import matplotlib.pyplot as plt\n",
    "import pandas as pd\n",
    "import random,string"
   ]
  },
  {
   "cell_type": "code",
   "execution_count": 2,
   "metadata": {},
   "outputs": [],
   "source": [
    "A=(random.choice(string.ascii_letters + string.digits) for x in range(6))##隨機取出6碼\n",
    "Verification_code=''.join(A)\n",
    "my_code=\"108701007\""
   ]
  },
  {
   "cell_type": "code",
   "execution_count": 3,
   "metadata": {},
   "outputs": [
    {
     "name": "stdout",
     "output_type": "stream",
     "text": [
      "輸入您的密碼:1\n",
      "密碼錯誤請再次嘗試\n",
      "輸入您的密碼:2\n",
      "密碼錯誤請再次嘗試\n",
      "輸入您的密碼:3\n",
      "密碼錯誤請再次嘗試\n",
      "輸入您的密碼:4\n",
      "密碼錯誤請再次嘗試\n",
      "輸入您的密碼:5\n",
      "錯誤超過5次，請重新輸入密碼和輸入驗證碼U63b87確認您不是機器人:\n",
      "輸入您的密碼:108701007\n",
      "請輸入驗證碼:asssdd\n",
      "密碼或驗證碼錯誤。\n",
      "輸入您的密碼:\n",
      "錯誤超過5次，請重新輸入密碼和輸入驗證碼U63b87確認您不是機器人:\n",
      "輸入您的密碼:108701007\n",
      "請輸入驗證碼:U63b87\n",
      "登入成功\n"
     ]
    }
   ],
   "source": [
    "i=1\n",
    "while(True):\n",
    "    ask=input(\"輸入您的密碼:\")\n",
    "    if ask==my_code:\n",
    "        print(\"登入成功\")\n",
    "        break\n",
    "    elif i>=5:\n",
    "        pass\n",
    "        print(\"錯誤超過5次，請重新輸入密碼和輸入驗證碼\"+Verification_code+\"確認您不是機器人:\")\n",
    "        ask_1=input(\"輸入您的密碼:\")\n",
    "        my_Verification_code=input(\"請輸入驗證碼:\")\n",
    "        if  my_Verification_code==Verification_code and ask_1==my_code:\n",
    "            print(\"登入成功\")\n",
    "            break\n",
    "        elif my_Verification_code!=Verification_code or ask_1!=my_code:\n",
    "            print(\"密碼或驗證碼錯誤。\")\n",
    "        else:\n",
    "            break\n",
    "    else:\n",
    "        print(\"密碼錯誤請再次嘗試\")\n",
    "        i+=1"
   ]
  },
  {
   "cell_type": "code",
   "execution_count": null,
   "metadata": {},
   "outputs": [],
   "source": []
  }
 ],
 "metadata": {
  "kernelspec": {
   "display_name": "Python 3",
   "language": "python",
   "name": "python3"
  },
  "language_info": {
   "codemirror_mode": {
    "name": "ipython",
    "version": 3
   },
   "file_extension": ".py",
   "mimetype": "text/x-python",
   "name": "python",
   "nbconvert_exporter": "python",
   "pygments_lexer": "ipython3",
   "version": "3.7.3"
  }
 },
 "nbformat": 4,
 "nbformat_minor": 2
}
