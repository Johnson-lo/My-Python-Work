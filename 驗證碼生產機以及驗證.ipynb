{
 "cells": [
  {
   "cell_type": "code",
   "execution_count": 1,
   "metadata": {},
   "outputs": [],
   "source": [
    "%matplotlib inline\n",
    "import numpy as np \n",
    "import matplotlib.pyplot as plt\n",
    "import pandas as pd\n",
    "import random"
   ]
  },
  {
   "cell_type": "code",
   "execution_count": 2,
   "metadata": {},
   "outputs": [],
   "source": [
    "a=[\"aBcde\",\"FghiJk\",\"LmnOPq\",\"RstuVw\",\"Xyz123\"]"
   ]
  },
  {
   "cell_type": "code",
   "execution_count": 8,
   "metadata": {},
   "outputs": [
    {
     "name": "stdout",
     "output_type": "stream",
     "text": [
      "想進入網頁請輸入yes\n",
      "請問要進入該網頁嗎yes\n",
      "驗證碼: FghiJk\n"
     ]
    }
   ],
   "source": [
    "print(\"想進入網頁請輸入yes\")\n",
    "while(True):\n",
    "    b=input(\"請問要進入該網頁嗎\")\n",
    "    if b==\"yes\":\n",
    "        d=(random.choice(a))\n",
    "        print(\"驗證碼:\",d)\n",
    "        g=(d.upper())\n",
    "        \n",
    "        break\n",
    "    else:\n",
    "        print(\"請關閉網頁\")\n",
    "        break"
   ]
  },
  {
   "cell_type": "code",
   "execution_count": 9,
   "metadata": {},
   "outputs": [
    {
     "name": "stdout",
     "output_type": "stream",
     "text": [
      "請輸入驗證碼(輸入大小寫皆可!!):\n",
      "lmnopq\n",
      "輸入錯誤，請再輸入一次\n",
      "請輸入驗證碼(輸入大小寫皆可!!):\n",
      "FGhijk\n",
      "驗證成功\n"
     ]
    }
   ],
   "source": [
    "i=0\n",
    "while(True):\n",
    "    print(\"請輸入驗證碼(輸入大小寫皆可!!):\")\n",
    "    c=input(\"\")\n",
    "    f=(c.upper())\n",
    "    if f==g:\n",
    "        print(\"驗證成功\")\n",
    "        break\n",
    "    elif i>5:\n",
    "        print(\"錯誤過多,請明日再嘗試\")\n",
    "        break\n",
    "    else:\n",
    "        print(\"輸入錯誤，請再輸入一次\")\n",
    "        i+=1"
   ]
  },
  {
   "cell_type": "code",
   "execution_count": 1,
   "metadata": {},
   "outputs": [],
   "source": [
    "import random,string"
   ]
  },
  {
   "cell_type": "code",
   "execution_count": 34,
   "metadata": {},
   "outputs": [],
   "source": [
    "Verification_code=(random.choice(string.ascii_letters + string.digits) for x in range(6))"
   ]
  },
  {
   "cell_type": "code",
   "execution_count": 35,
   "metadata": {},
   "outputs": [],
   "source": [
    "A=''.join(Verification_code)"
   ]
  },
  {
   "cell_type": "code",
   "execution_count": 36,
   "metadata": {},
   "outputs": [
    {
     "data": {
      "text/plain": [
       "'ewE3yl'"
      ]
     },
     "execution_count": 36,
     "metadata": {},
     "output_type": "execute_result"
    }
   ],
   "source": [
    "A"
   ]
  },
  {
   "cell_type": "code",
   "execution_count": 37,
   "metadata": {},
   "outputs": [
    {
     "name": "stdout",
     "output_type": "stream",
     "text": [
      "ewE3yl\n"
     ]
    }
   ],
   "source": [
    "print(A)"
   ]
  },
  {
   "cell_type": "code",
   "execution_count": 38,
   "metadata": {},
   "outputs": [
    {
     "name": "stdout",
     "output_type": "stream",
     "text": [
      "錯誤超過5次，請輸入驗證碼ewE3yl確認您不是機器人:\n"
     ]
    }
   ],
   "source": [
    "print(\"錯誤超過5次，請輸入驗證碼\"+A+\"確認您不是機器人:\")"
   ]
  },
  {
   "cell_type": "code",
   "execution_count": 41,
   "metadata": {},
   "outputs": [
    {
     "name": "stdout",
     "output_type": "stream",
     "text": [
      "輸入您的密碼:\n",
      "輸入您的密碼:\n",
      "輸入您的密碼:\n",
      "輸入您的密碼:\n"
     ]
    },
    {
     "ename": "NameError",
     "evalue": "name 'my_code' is not defined",
     "output_type": "error",
     "traceback": [
      "\u001b[1;31m---------------------------------------------------------------------------\u001b[0m",
      "\u001b[1;31mNameError\u001b[0m                                 Traceback (most recent call last)",
      "\u001b[1;32m<ipython-input-41-f8324683f939>\u001b[0m in \u001b[0;36m<module>\u001b[1;34m\u001b[0m\n\u001b[0;32m      4\u001b[0m         \u001b[0mask\u001b[0m\u001b[1;33m=\u001b[0m\u001b[0minput\u001b[0m\u001b[1;33m(\u001b[0m\u001b[1;34m\"輸入您的密碼:\"\u001b[0m\u001b[1;33m)\u001b[0m\u001b[1;33m\u001b[0m\u001b[1;33m\u001b[0m\u001b[0m\n\u001b[0;32m      5\u001b[0m         \u001b[0mk\u001b[0m\u001b[1;33m+=\u001b[0m\u001b[1;36m1\u001b[0m\u001b[1;33m\u001b[0m\u001b[1;33m\u001b[0m\u001b[0m\n\u001b[1;32m----> 6\u001b[1;33m     \u001b[1;32melif\u001b[0m \u001b[0mask\u001b[0m\u001b[1;33m==\u001b[0m\u001b[0mmy_code\u001b[0m\u001b[1;33m:\u001b[0m\u001b[1;33m\u001b[0m\u001b[1;33m\u001b[0m\u001b[0m\n\u001b[0m\u001b[0;32m      7\u001b[0m         \u001b[0mprint\u001b[0m\u001b[1;33m(\u001b[0m\u001b[1;34m\"登入成功\"\u001b[0m\u001b[1;33m)\u001b[0m\u001b[1;33m\u001b[0m\u001b[1;33m\u001b[0m\u001b[0m\n\u001b[0;32m      8\u001b[0m         \u001b[1;32mbreak\u001b[0m\u001b[1;33m\u001b[0m\u001b[1;33m\u001b[0m\u001b[0m\n",
      "\u001b[1;31mNameError\u001b[0m: name 'my_code' is not defined"
     ]
    }
   ],
   "source": [
    "k=1\n",
    "while(True):\n",
    "    if k<5:\n",
    "        ask=input(\"輸入您的密碼:\")\n",
    "        k+=1\n",
    "    elif ask==my_code:\n",
    "        print(\"登入成功\")\n",
    "        break\n",
    "    elif k>=5:\n",
    "        print(\"錯誤超過5次，請重新輸入密碼和輸入驗證碼\"+Verification_code+\"確認您不是機器人:\")\n",
    "        ask_1=input(\"輸入您的密碼:\")\n",
    "        my_Verification_code=input(\"請輸入驗證碼:\")\n",
    "        if  my_Verification_code==Verification_code and ask_1==my_code:\n",
    "            print(\"登入成功\")\n",
    "            break\n",
    "        elif my_Verification_code!=Verification_code or ask_1!=my_code:\n",
    "            print(\"密碼或驗證碼錯誤。\")\n",
    "        elif l>=5:\n",
    "            print(\"錯誤過多請明日再嘗試。\")\n",
    "            break\n",
    "        else:\n",
    "            continue\n",
    "    else:\n",
    "        print(\"密碼錯誤請再次嘗試\")\n",
    "        break\n",
    "        "
   ]
  },
  {
   "cell_type": "code",
   "execution_count": null,
   "metadata": {},
   "outputs": [],
   "source": [
    "i=1\n",
    "while(True):\n",
    "    ask=input(\"輸入您的密碼:\")\n",
    "    if ask==my_code:\n",
    "        print(\"登入成功\")\n",
    "        break\n",
    "    elif i>=5:\n",
    "        print(\"錯誤超過5次，請重新輸入密碼和輸入驗證碼\"+Verification_code+\"確認您不是機器人:\")\n",
    "        ask_1=input(\"輸入您的密碼:\")\n",
    "        my_Verification_code=input(\"請輸入驗證碼:\")\n",
    "        if  my_Verification_code==Verification_code and ask_1==my_code:\n",
    "            print(\"登入成功\")\n",
    "            break\n",
    "        elif my_Verification_code!=Verification_code or ask_1!=my_code:\n",
    "            print(\"密碼或驗證碼錯誤。\")\n",
    "        elif l>=5:\n",
    "            print(\"錯誤過多請明日再嘗試。\")\n",
    "            break\n",
    "        else:\n",
    "            continue\n",
    "    else:\n",
    "        print(\"密碼錯誤請再次嘗試\")\n",
    "        "
   ]
  }
 ],
 "metadata": {
  "kernelspec": {
   "display_name": "Python 3",
   "language": "python",
   "name": "python3"
  },
  "language_info": {
   "codemirror_mode": {
    "name": "ipython",
    "version": 3
   },
   "file_extension": ".py",
   "mimetype": "text/x-python",
   "name": "python",
   "nbconvert_exporter": "python",
   "pygments_lexer": "ipython3",
   "version": "3.7.3"
  }
 },
 "nbformat": 4,
 "nbformat_minor": 2
}
