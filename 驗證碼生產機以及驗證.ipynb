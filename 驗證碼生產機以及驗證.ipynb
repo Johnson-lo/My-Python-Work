{
 "cells": [
  {
   "cell_type": "code",
   "execution_count": 1,
   "metadata": {},
   "outputs": [],
   "source": [
    "%matplotlib inline\n",
    "import numpy as np \n",
    "import matplotlib.pyplot as plt\n",
    "import pandas as pd\n",
    "import random"
   ]
  },
  {
   "cell_type": "code",
   "execution_count": 2,
   "metadata": {},
   "outputs": [],
   "source": [
    "a=[\"aBcde\",\"FghiJk\",\"LmnOPq\",\"RstuVw\",\"Xyz123\"]"
   ]
  },
  {
   "cell_type": "code",
   "execution_count": 8,
   "metadata": {},
   "outputs": [
    {
     "name": "stdout",
     "output_type": "stream",
     "text": [
      "想進入網頁請輸入yes\n",
      "請問要進入該網頁嗎yes\n",
      "驗證碼: FghiJk\n"
     ]
    }
   ],
   "source": [
    "print(\"想進入網頁請輸入yes\")\n",
    "while(True):\n",
    "    b=input(\"請問要進入該網頁嗎\")\n",
    "    if b==\"yes\":\n",
    "        d=(random.choice(a))\n",
    "        print(\"驗證碼:\",d)\n",
    "        g=(d.upper())\n",
    "        \n",
    "        break\n",
    "    else:\n",
    "        print(\"請關閉網頁\")\n",
    "        break"
   ]
  },
  {
   "cell_type": "code",
   "execution_count": 9,
   "metadata": {},
   "outputs": [
    {
     "name": "stdout",
     "output_type": "stream",
     "text": [
      "請輸入驗證碼(輸入大小寫皆可!!):\n",
      "lmnopq\n",
      "輸入錯誤，請再輸入一次\n",
      "請輸入驗證碼(輸入大小寫皆可!!):\n",
      "FGhijk\n",
      "驗證成功\n"
     ]
    }
   ],
   "source": [
    "i=0\n",
    "while(True):\n",
    "    print(\"請輸入驗證碼(輸入大小寫皆可!!):\")\n",
    "    c=input(\"\")\n",
    "    f=(c.upper())\n",
    "    if f==g:\n",
    "        print(\"驗證成功\")\n",
    "        break\n",
    "    elif i>5:\n",
    "        print(\"錯誤過多,請明日再嘗試\")\n",
    "        break\n",
    "    else:\n",
    "        print(\"輸入錯誤，請再輸入一次\")\n",
    "        i+=1"
   ]
  },
  {
   "cell_type": "code",
   "execution_count": null,
   "metadata": {},
   "outputs": [],
   "source": []
  },
  {
   "cell_type": "code",
   "execution_count": null,
   "metadata": {},
   "outputs": [],
   "source": []
  }
 ],
 "metadata": {
  "kernelspec": {
   "display_name": "Python 3",
   "language": "python",
   "name": "python3"
  },
  "language_info": {
   "codemirror_mode": {
    "name": "ipython",
    "version": 3
   },
   "file_extension": ".py",
   "mimetype": "text/x-python",
   "name": "python",
   "nbconvert_exporter": "python",
   "pygments_lexer": "ipython3",
   "version": "3.7.3"
  }
 },
 "nbformat": 4,
 "nbformat_minor": 2
}
